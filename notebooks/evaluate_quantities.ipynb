{
 "cells": [
  {
   "cell_type": "code",
   "execution_count": 1,
   "id": "median-exchange",
   "metadata": {},
   "outputs": [
    {
     "name": "stdout",
     "output_type": "stream",
     "text": [
      "Appended /home/blackhc/PycharmProjects/unifying_dss_exp/src to paths\n",
      "Switched to directory /home/blackhc/PycharmProjects/unifying_dss_exp\n",
      "%load_ext autoreload\n",
      "%autoreload 2\n"
     ]
    }
   ],
   "source": [
    "import blackhc.project.script"
   ]
  },
  {
   "cell_type": "code",
   "execution_count": 2,
   "id": "tropical-board",
   "metadata": {},
   "outputs": [],
   "source": [
    "from models import *"
   ]
  },
  {
   "cell_type": "code",
   "execution_count": 3,
   "id": "respected-angel",
   "metadata": {},
   "outputs": [],
   "source": [
    "import torch"
   ]
  },
  {
   "cell_type": "code",
   "execution_count": 4,
   "id": "piano-street",
   "metadata": {},
   "outputs": [],
   "source": [
    "from datasets.factories import get_dataset"
   ]
  },
  {
   "cell_type": "code",
   "execution_count": 5,
   "id": "foreign-embassy",
   "metadata": {},
   "outputs": [],
   "source": [
    "from dataset_operations import RandomSubsetDataset"
   ]
  },
  {
   "cell_type": "code",
   "execution_count": 6,
   "id": "right-recall",
   "metadata": {},
   "outputs": [],
   "source": [
    "split_dataset = get_dataset(\n",
    "    \"MNIST\", normalize_like_cifar10=False, root=\"data/\", validation_set_size=1000, device_hint=\"cuda\"\n",
    ")"
   ]
  },
  {
   "cell_type": "code",
   "execution_count": 52,
   "id": "technological-corrections",
   "metadata": {},
   "outputs": [],
   "source": [
    "model_trainer = MnistModelTrainer(\"cuda\", max_training_epochs=200, num_evaluation_batch_size=512)"
   ]
  },
  {
   "cell_type": "code",
   "execution_count": 8,
   "id": "vocational-reply",
   "metadata": {},
   "outputs": [],
   "source": [
    "train_loader = model_trainer.get_train_dataloader(split_dataset.train)\n",
    "test_loader = model_trainer.get_evaluation_dataloader(split_dataset.test)\n",
    "validation_loader = model_trainer.get_evaluation_dataloader(split_dataset.validation)"
   ]
  },
  {
   "cell_type": "code",
   "execution_count": 9,
   "id": "speaking-bouquet",
   "metadata": {},
   "outputs": [],
   "source": [
    "import black_box_model_training"
   ]
  },
  {
   "cell_type": "code",
   "execution_count": 10,
   "id": "happy-wrestling",
   "metadata": {},
   "outputs": [],
   "source": [
    "model_info = torch.load(\"./bnn_mnist_cnn_model.pt\")"
   ]
  },
  {
   "cell_type": "code",
   "execution_count": 11,
   "id": "gentle-morgan",
   "metadata": {},
   "outputs": [],
   "source": [
    "from trained_model import TrainedBayesianModel\n",
    "from consistent_mc_dropout import DeterministicModel"
   ]
  },
  {
   "cell_type": "code",
   "execution_count": 12,
   "id": "linear-mailman",
   "metadata": {},
   "outputs": [],
   "source": [
    "def get_model_instance():\n",
    "    model = BayesianMNISTCNN()\n",
    "    model.load_state_dict(model_info[\"model\"])\n",
    "    return DeterministicModel(model)\n",
    "\n",
    "model = get_model_instance()"
   ]
  },
  {
   "cell_type": "code",
   "execution_count": 13,
   "id": "defensive-memphis",
   "metadata": {},
   "outputs": [
    {
     "data": {
      "application/vnd.jupyter.widget-view+json": {
       "model_id": "",
       "version_major": 2,
       "version_minor": 0
      },
      "text/plain": [
       "[1/79]   1%|1          [00:00<?]"
      ]
     },
     "metadata": {},
     "output_type": "display_data"
    },
    {
     "data": {
      "text/plain": [
       "{'accuracy': 0.8392, 'crossentropy': 1.0301890625}"
      ]
     },
     "execution_count": 13,
     "metadata": {},
     "output_type": "execute_result"
    }
   ],
   "source": [
    "test_metrics = black_box_model_training.evaluate_simple(model=model, loader=test_loader, device=\"cuda\")\n",
    "test_metrics"
   ]
  },
  {
   "cell_type": "code",
   "execution_count": 14,
   "id": "serious-nylon",
   "metadata": {},
   "outputs": [
    {
     "data": {
      "text/plain": [
       "{'accuracy': 0.8384, 'crossentropy': tensor(0.5493)}"
      ]
     },
     "execution_count": 14,
     "metadata": {},
     "output_type": "execute_result"
    }
   ],
   "source": [
    "model_info[\"test_metrics\"]"
   ]
  },
  {
   "cell_type": "code",
   "execution_count": 15,
   "id": "major-coupon",
   "metadata": {},
   "outputs": [],
   "source": [
    "from active_learning import ActiveLearningData"
   ]
  },
  {
   "cell_type": "code",
   "execution_count": 16,
   "id": "secret-webcam",
   "metadata": {},
   "outputs": [],
   "source": [
    "active_learning_data = ActiveLearningData(split_dataset.train)"
   ]
  },
  {
   "cell_type": "code",
   "execution_count": 17,
   "id": "attractive-potter",
   "metadata": {},
   "outputs": [],
   "source": [
    "active_learning_data.acquire_base_indices(model_info[\"train_indices\"])"
   ]
  },
  {
   "cell_type": "code",
   "execution_count": 18,
   "id": "optional-boundary",
   "metadata": {},
   "outputs": [],
   "source": [
    "eval_dataset = active_learning_data.extract_dataset_from_pool(20000)"
   ]
  },
  {
   "cell_type": "code",
   "execution_count": 19,
   "id": "norwegian-intermediate",
   "metadata": {},
   "outputs": [
    {
     "data": {
      "text/plain": [
       "20000"
      ]
     },
     "execution_count": 19,
     "metadata": {},
     "output_type": "execute_result"
    }
   ],
   "source": [
    "len(eval_dataset)"
   ]
  },
  {
   "cell_type": "code",
   "execution_count": 20,
   "id": "eleven-shell",
   "metadata": {},
   "outputs": [
    {
     "data": {
      "text/plain": [
       "38920"
      ]
     },
     "execution_count": 20,
     "metadata": {},
     "output_type": "execute_result"
    }
   ],
   "source": [
    "len(active_learning_data.pool_dataset)"
   ]
  },
  {
   "cell_type": "code",
   "execution_count": 21,
   "id": "adequate-slovakia",
   "metadata": {},
   "outputs": [],
   "source": [
    "pool_sample_dataset = active_learning_data.extract_dataset_from_pool(1000)"
   ]
  },
  {
   "cell_type": "code",
   "execution_count": 22,
   "id": "aquatic-labor",
   "metadata": {},
   "outputs": [],
   "source": [
    "train_loader = model_trainer.get_evaluation_dataloader(active_learning_data.training_dataset)\n",
    "# pool_loader = model_trainer.get_evaluation_dataloader(active_learning_data.pool_dataset)\n",
    "eval_loader = model_trainer.get_evaluation_dataloader(eval_dataset)"
   ]
  },
  {
   "cell_type": "code",
   "execution_count": 23,
   "id": "postal-plaza",
   "metadata": {},
   "outputs": [
    {
     "data": {
      "text/plain": [
       "{'accuracy': 1.0, 'crossentropy': 1.7165648387162946e-06}"
      ]
     },
     "execution_count": 23,
     "metadata": {},
     "output_type": "execute_result"
    }
   ],
   "source": [
    "black_box_model_training.evaluate_simple(model=model, loader=train_loader, device=\"cuda\")"
   ]
  },
  {
   "cell_type": "code",
   "execution_count": 24,
   "id": "changed-prince",
   "metadata": {},
   "outputs": [],
   "source": [
    "import laplace\n",
    "import numpy as np"
   ]
  },
  {
   "cell_type": "code",
   "execution_count": 25,
   "id": "dirty-dubai",
   "metadata": {},
   "outputs": [],
   "source": [
    "def C_k(la):\n",
    "    return la.n_params / 2 * (np.log(2 * np.pi) + 1)\n",
    "\n",
    "\n",
    "def get_model_param_entropy(\n",
    "    train_loader, prior_precision=None, subset_of_weights=\"last_layer\", hessian_structure=\"full\", use_ggn=True\n",
    "):\n",
    "    model = get_model_instance()\n",
    "    la = laplace.Laplace(\n",
    "        model,\n",
    "        \"classification\",\n",
    "        prior_precision=prior_precision or 1.0,\n",
    "        subset_of_weights=subset_of_weights,\n",
    "        hessian_structure=hessian_structure,\n",
    "        backend=laplace.curvature.AsdlGGN if use_ggn else laplace.curvature.AsdlEF,\n",
    "    )\n",
    "    la.fit(train_loader)\n",
    "    if prior_precision is None:\n",
    "        la.optimize_prior_precision(method=\"marglik\")\n",
    "\n",
    "    return la.log_det_posterior_precision / -2 + C_k(la)"
   ]
  },
  {
   "cell_type": "code",
   "execution_count": 26,
   "id": "embedded-financing",
   "metadata": {},
   "outputs": [
    {
     "data": {
      "text/plain": [
       "tensor(4226.7900)"
      ]
     },
     "execution_count": 26,
     "metadata": {},
     "output_type": "execute_result"
    }
   ],
   "source": [
    "get_model_param_entropy(train_loader, prior_precision=None, use_ggn=False)"
   ]
  },
  {
   "cell_type": "code",
   "execution_count": 27,
   "id": "spoken-double",
   "metadata": {},
   "outputs": [],
   "source": [
    "from torch.utils.data import ConcatDataset, TensorDataset"
   ]
  },
  {
   "cell_type": "code",
   "execution_count": 28,
   "id": "lesser-relationship",
   "metadata": {},
   "outputs": [],
   "source": [
    "from tqdm.auto import tqdm"
   ]
  },
  {
   "cell_type": "code",
   "execution_count": 29,
   "id": "royal-manufacturer",
   "metadata": {},
   "outputs": [],
   "source": [
    "import dataclasses\n",
    "from dataclasses import dataclass"
   ]
  },
  {
   "cell_type": "code",
   "execution_count": 30,
   "id": "opponent-murder",
   "metadata": {},
   "outputs": [],
   "source": [
    "@dataclass\n",
    "class ApproxSettings:\n",
    "    subset_of_weights: str = \"last_layer\"\n",
    "    hessian_structure: str = \"full\"\n",
    "    use_ggn: bool = True\n",
    "\n",
    "    def to_kwargs(self):\n",
    "        kwargs = dict(\n",
    "            subset_of_weights=self.subset_of_weights,\n",
    "            hessian_structure=self.hessian_structure,\n",
    "            backend=laplace.curvature.AsdlGGN if self.use_ggn else laplace.curvature.AsdlEF,\n",
    "        )\n",
    "        return kwargs"
   ]
  },
  {
   "cell_type": "code",
   "execution_count": 31,
   "id": "following-newport",
   "metadata": {},
   "outputs": [],
   "source": [
    "@dataclass\n",
    "class WeightSpaceQuantities:\n",
    "    xig_approx_log_det: float\n",
    "    xig_approx_trace: float\n",
    "    xig_proxy: float\n",
    "\n",
    "    xpig_proxy_log_det: float\n",
    "    xpig_proxy_trace: float\n",
    "\n",
    "    jxpig_proxy_log_det: float\n",
    "    jxpig_proxy_trace: float"
   ]
  },
  {
   "cell_type": "code",
   "execution_count": 32,
   "id": "spare-channel",
   "metadata": {},
   "outputs": [],
   "source": [
    "def compute_weight_space_quantities(\n",
    "    pool_dataset,\n",
    "    train_loader,\n",
    "    eval_loader,\n",
    "    prior_precision=1.0,\n",
    "    acq_settings: ApproxSettings = ApproxSettings(),\n",
    "    eval_settings: ApproxSettings = ApproxSettings(),\n",
    "    prior_settings: ApproxSettings = ApproxSettings(),\n",
    "):\n",
    "    prior_model = get_model_instance()\n",
    "    prior_la = laplace.Laplace(\n",
    "        prior_model, \"classification\", prior_precision=prior_precision or 0.0, **prior_settings.to_kwargs()\n",
    "    )\n",
    "    prior_la.fit(train_loader)\n",
    "    prior_la.H = prior_la.H.to(torch.float64)\n",
    "    if prior_precision is None:\n",
    "        prior_la.optimize_prior_precision(method=\"marglik\")\n",
    "\n",
    "    prior_posterior_precision = prior_la.posterior_precision\n",
    "    prior_inv_posterior_precision = prior_la.posterior_covariance\n",
    "\n",
    "    eval_model = get_model_instance()\n",
    "    eval_la = laplace.Laplace(eval_model, \"classification\", prior_precision=0, **eval_settings.to_kwargs())\n",
    "    eval_la.fit(eval_loader)\n",
    "    eval_la.H = eval_la.H.to(torch.float64)\n",
    "\n",
    "    acq_model = get_model_instance()\n",
    "    acq_la = laplace.Laplace(acq_model, \"classification\", prior_precision=0, **acq_settings.to_kwargs())\n",
    "\n",
    "    pool_weight_space_quantities = []\n",
    "    for X, y in tqdm(pool_dataset):\n",
    "        i_dataset = TensorDataset(X[None, ...], y[None, ...])\n",
    "        i_dataloader = model_trainer.get_evaluation_dataloader(i_dataset)\n",
    "        acq_la.fit(i_dataloader, override=True)\n",
    "        acq_la.H = acq_la.H.to(torch.float64)\n",
    "\n",
    "        xig_objective = acq_la.posterior_precision @ prior_inv_posterior_precision\n",
    "        xig_approx_log_det = 0.5 * (xig_objective + torch.eye(len(xig_objective))).logdet()\n",
    "        xig_approx_trace = 0.5 * torch.trace(xig_objective)\n",
    "        xig_proxy = 0.5 * (acq_la.posterior_precision + prior_posterior_precision).logdet() - C_k(acq_la)\n",
    "\n",
    "        inv_acq_plus_prior = laplace.utils.invsqrt_precision(acq_la.posterior_precision + prior_posterior_precision)\n",
    "        inv_acq_plus_prior = inv_acq_plus_prior @ inv_acq_plus_prior.T\n",
    "\n",
    "        jxpig_objective = eval_la.posterior_precision @ inv_acq_plus_prior\n",
    "        # jxpig_proxy_log_det = (jxpig_objective.to(torch.float64) + torch.eye(len(jxpig_objective), dtype=torch.float64)).logdet()\n",
    "        jxpig_proxy_log_det = (jxpig_objective + torch.eye(len(jxpig_objective))).logdet()\n",
    "        jxpig_proxy_trace = torch.trace(jxpig_objective)\n",
    "\n",
    "        xpig_objective = jxpig_objective / eval_la.n_data\n",
    "        xpig_proxy_log_det = (xpig_objective + torch.eye(len(xpig_objective))).logdet()\n",
    "        xpig_proxy_trace = torch.trace(xpig_objective)\n",
    "\n",
    "        pool_weight_space_quantities.append(\n",
    "            WeightSpaceQuantities(\n",
    "                xig_approx_log_det=float(xig_approx_log_det),\n",
    "                xig_approx_trace=float(xig_approx_trace),\n",
    "                xig_proxy=float(xig_proxy),\n",
    "                xpig_proxy_log_det=float(xpig_proxy_log_det),\n",
    "                xpig_proxy_trace=float(xpig_proxy_trace),\n",
    "                jxpig_proxy_log_det=float(jxpig_proxy_log_det),\n",
    "                jxpig_proxy_trace=float(jxpig_proxy_trace),\n",
    "            )\n",
    "        )\n",
    "\n",
    "    return pool_weight_space_quantities"
   ]
  },
  {
   "cell_type": "code",
   "execution_count": 131,
   "id": "quick-recognition",
   "metadata": {},
   "outputs": [
    {
     "data": {
      "application/vnd.jupyter.widget-view+json": {
       "model_id": "018ad56d8f5c49199546b02ae7a4e81b",
       "version_major": 2,
       "version_minor": 0
      },
      "text/plain": [
       "  0%|          | 0/1000 [00:00<?, ?it/s]"
      ]
     },
     "metadata": {},
     "output_type": "display_data"
    }
   ],
   "source": [
    "# pool_weight_space_quantities = compute_weight_space_quantities(\n",
    "#     pool_sample_dataset, train_loader=train_loader, eval_loader=eval_loader, prior_precision=None, prior_settings=ApproxSettings(use_ggn=True)\n",
    "# )\n",
    "# torch.save(pool_weight_space_quantities, \"mnist_weight_space_quantities_1k_train.pt\")"
   ]
  },
  {
   "cell_type": "code",
   "execution_count": 33,
   "id": "serial-baptist",
   "metadata": {},
   "outputs": [],
   "source": [
    "pool_weight_space_quantities=torch.load(\"mnist_weight_space_quantities_1k_train.pt\")"
   ]
  },
  {
   "cell_type": "code",
   "execution_count": 49,
   "id": "finnish-pencil",
   "metadata": {},
   "outputs": [],
   "source": [
    "# def compute_prediction_space_quantities(model, train_loader, prior_precision, loader, settings: ApproxSettings = ApproxSettings(),):\n",
    "# TODO(blackhc): There is a bug in here somewhere. The normal BNN via MC dropout works well enough though.\n",
    "\n",
    "def get_model_la(\n",
    "    model,\n",
    "    train_loader,\n",
    "    prior_precision,\n",
    "    settings: ApproxSettings = ApproxSettings(),\n",
    "):\n",
    "    model = get_model_instance()\n",
    "    la = laplace.Laplace(model, \"classification\", prior_precision=prior_precision or 0.0, **settings.to_kwargs())\n",
    "    la.fit(train_loader)\n",
    "    if prior_precision is None:\n",
    "        la.optimize_prior_precision(method=\"marglik\")\n",
    "    return la\n",
    "\n",
    "\n",
    "def compute_joint_predictions_last_layer_functional(la, loader, n_samples=100):\n",
    "    fs = []\n",
    "    \n",
    "    for sample in tqdm(la.sample(n_samples)):\n",
    "        direction = sample - la.mean\n",
    "        fs_row = []\n",
    "        for X_batch, y in tqdm(loader):\n",
    "            Js, f_mu = la.backend.last_layer_jacobians(X_batch.to(la._device))\n",
    "            #print(Js.shape, f_mu.shape, direction.shape)\n",
    "            predictions = f_mu + Js @ direction\n",
    "            #print(predictions.shape)\n",
    "            fs_row.append(predictions.detach())\n",
    "        fs.append(torch.concat(fs_row))\n",
    "    fs = torch.stack(fs)\n",
    "    if la.likelihood == \"classification\":\n",
    "        fs = torch.softmax(fs, dim=-1)\n",
    "    return fs\n",
    "                  \n",
    "def compute_joint_predictions_last_layer(la, loader, n_samples=100):\n",
    "    fs = list()\n",
    "    for sample in tqdm(la.sample(n_samples)):\n",
    "        torch.nn.utils.vector_to_parameters(sample, la.model.last_layer.parameters())\n",
    "        fs_row = []\n",
    "        for X_batch, y in tqdm(loader):\n",
    "            fs_row.append(la.model(X_batch.to(la._device)).detach())\n",
    "        fs.append(torch.concat(fs_row))\n",
    "    torch.nn.utils.vector_to_parameters(la.mean, la.model.last_layer.parameters())\n",
    "    fs = torch.stack(fs)\n",
    "    if la.likelihood == \"classification\":\n",
    "        fs = torch.softmax(fs, dim=-1)\n",
    "    return fs"
   ]
  },
  {
   "cell_type": "code",
   "execution_count": 38,
   "id": "capital-tension",
   "metadata": {},
   "outputs": [
    {
     "data": {
      "text/plain": [
       "(21000, 20000, 1000)"
      ]
     },
     "execution_count": 38,
     "metadata": {},
     "output_type": "execute_result"
    }
   ],
   "source": [
    "eval_pool_dataset = ConcatDataset([eval_dataset, pool_sample_dataset])\n",
    "len(eval_pool_dataset), len(eval_dataset), len(pool_sample_dataset)"
   ]
  },
  {
   "cell_type": "code",
   "execution_count": 53,
   "id": "frank-aberdeen",
   "metadata": {},
   "outputs": [],
   "source": [
    "eval_pool_loader = model_trainer.get_evaluation_dataloader(eval_pool_dataset)"
   ]
  },
  {
   "cell_type": "code",
   "execution_count": 64,
   "id": "grateful-document",
   "metadata": {},
   "outputs": [
    {
     "data": {
      "application/vnd.jupyter.widget-view+json": {
       "model_id": "",
       "version_major": 2,
       "version_minor": 0
      },
      "text/plain": [
       "get_predictions_labels:   0%|          | 0/2100000 [00:00<?, ?it/s]"
      ]
     },
     "metadata": {},
     "output_type": "display_data"
    }
   ],
   "source": [
    "# trained_model = TrainedBayesianModel(get_model_instance().bayesian_module)\n",
    "# eval_pool_probs_K_N_C = trained_model.get_log_probs_N_K_C(eval_pool_loader, num_samples=100, device=\"cuda\", storage_device=\"cpu\").permute((1,0,2)).exp()\n",
    "\n",
    "# torch.save(eval_pool_probs_K_N_C, \"bnn_eval_pool_probs_K_N_C.pt\")"
   ]
  },
  {
   "cell_type": "code",
   "execution_count": 86,
   "id": "reduced-satin",
   "metadata": {},
   "outputs": [],
   "source": [
    "eval_pool_probs_K_N_C = torch.load(\"bnn_eval_pool_probs_K_N_C.pt\")"
   ]
  },
  {
   "cell_type": "code",
   "execution_count": 36,
   "id": "intermediate-warren",
   "metadata": {},
   "outputs": [],
   "source": [
    "# la = get_model_la(get_model_instance(), train_loader, None)"
   ]
  },
  {
   "cell_type": "code",
   "execution_count": 220,
   "id": "classical-ethics",
   "metadata": {},
   "outputs": [],
   "source": [
    "# eval_pool_probs_K_N_C = compute_joint_predictions_last_layer(la, eval_pool_loader, n_samples=20)\n",
    "# torch.save(eval_pool_probs_K_N_C, \"bnn_eval_pool_probs_K_N_C_nn_la_samples.pt\")"
   ]
  },
  {
   "cell_type": "code",
   "execution_count": 54,
   "id": "alone-princess",
   "metadata": {},
   "outputs": [
    {
     "data": {
      "application/vnd.jupyter.widget-view+json": {
       "model_id": "371fba9316d9411784718b24e06d68ff",
       "version_major": 2,
       "version_minor": 0
      },
      "text/plain": [
       "  0%|          | 0/20 [00:00<?, ?it/s]"
      ]
     },
     "metadata": {},
     "output_type": "display_data"
    },
    {
     "data": {
      "application/vnd.jupyter.widget-view+json": {
       "model_id": "6a1266d3f1a34f0cbac7e92c022a943c",
       "version_major": 2,
       "version_minor": 0
      },
      "text/plain": [
       "  0%|          | 0/42 [00:00<?, ?it/s]"
      ]
     },
     "metadata": {},
     "output_type": "display_data"
    },
    {
     "data": {
      "application/vnd.jupyter.widget-view+json": {
       "model_id": "87a418f90111473086930bba03f01178",
       "version_major": 2,
       "version_minor": 0
      },
      "text/plain": [
       "  0%|          | 0/42 [00:00<?, ?it/s]"
      ]
     },
     "metadata": {},
     "output_type": "display_data"
    },
    {
     "data": {
      "application/vnd.jupyter.widget-view+json": {
       "model_id": "a85367254899487b9b31f385ece7ce52",
       "version_major": 2,
       "version_minor": 0
      },
      "text/plain": [
       "  0%|          | 0/42 [00:00<?, ?it/s]"
      ]
     },
     "metadata": {},
     "output_type": "display_data"
    },
    {
     "data": {
      "application/vnd.jupyter.widget-view+json": {
       "model_id": "67687bffda434982bf8f1c8c24b5b4d8",
       "version_major": 2,
       "version_minor": 0
      },
      "text/plain": [
       "  0%|          | 0/42 [00:00<?, ?it/s]"
      ]
     },
     "metadata": {},
     "output_type": "display_data"
    },
    {
     "data": {
      "application/vnd.jupyter.widget-view+json": {
       "model_id": "38e3c93e3a5a4fac80cdea36c4312f9e",
       "version_major": 2,
       "version_minor": 0
      },
      "text/plain": [
       "  0%|          | 0/42 [00:00<?, ?it/s]"
      ]
     },
     "metadata": {},
     "output_type": "display_data"
    },
    {
     "data": {
      "application/vnd.jupyter.widget-view+json": {
       "model_id": "d10e35f6641e460281ce526d2bc7409d",
       "version_major": 2,
       "version_minor": 0
      },
      "text/plain": [
       "  0%|          | 0/42 [00:00<?, ?it/s]"
      ]
     },
     "metadata": {},
     "output_type": "display_data"
    },
    {
     "data": {
      "application/vnd.jupyter.widget-view+json": {
       "model_id": "354f2854b7c64dd3b3b0030d346d38db",
       "version_major": 2,
       "version_minor": 0
      },
      "text/plain": [
       "  0%|          | 0/42 [00:00<?, ?it/s]"
      ]
     },
     "metadata": {},
     "output_type": "display_data"
    },
    {
     "data": {
      "application/vnd.jupyter.widget-view+json": {
       "model_id": "2d25b6f4fefc4547a917087effb18400",
       "version_major": 2,
       "version_minor": 0
      },
      "text/plain": [
       "  0%|          | 0/42 [00:00<?, ?it/s]"
      ]
     },
     "metadata": {},
     "output_type": "display_data"
    },
    {
     "data": {
      "application/vnd.jupyter.widget-view+json": {
       "model_id": "6564ed0ab3ad4c42bb1c745fced36a17",
       "version_major": 2,
       "version_minor": 0
      },
      "text/plain": [
       "  0%|          | 0/42 [00:00<?, ?it/s]"
      ]
     },
     "metadata": {},
     "output_type": "display_data"
    },
    {
     "data": {
      "application/vnd.jupyter.widget-view+json": {
       "model_id": "b41e0d1f680847d59bd452354f78b212",
       "version_major": 2,
       "version_minor": 0
      },
      "text/plain": [
       "  0%|          | 0/42 [00:00<?, ?it/s]"
      ]
     },
     "metadata": {},
     "output_type": "display_data"
    },
    {
     "data": {
      "application/vnd.jupyter.widget-view+json": {
       "model_id": "8d019d387e9b4444b77166148b6c9fe1",
       "version_major": 2,
       "version_minor": 0
      },
      "text/plain": [
       "  0%|          | 0/42 [00:00<?, ?it/s]"
      ]
     },
     "metadata": {},
     "output_type": "display_data"
    },
    {
     "data": {
      "application/vnd.jupyter.widget-view+json": {
       "model_id": "ce82be9bb6554d198e30e2161b9693fd",
       "version_major": 2,
       "version_minor": 0
      },
      "text/plain": [
       "  0%|          | 0/42 [00:00<?, ?it/s]"
      ]
     },
     "metadata": {},
     "output_type": "display_data"
    },
    {
     "data": {
      "application/vnd.jupyter.widget-view+json": {
       "model_id": "8b84d4809dc44f07aec685cde519aef5",
       "version_major": 2,
       "version_minor": 0
      },
      "text/plain": [
       "  0%|          | 0/42 [00:00<?, ?it/s]"
      ]
     },
     "metadata": {},
     "output_type": "display_data"
    },
    {
     "data": {
      "application/vnd.jupyter.widget-view+json": {
       "model_id": "52f503ffa42e468298ca423a031018a1",
       "version_major": 2,
       "version_minor": 0
      },
      "text/plain": [
       "  0%|          | 0/42 [00:00<?, ?it/s]"
      ]
     },
     "metadata": {},
     "output_type": "display_data"
    },
    {
     "data": {
      "application/vnd.jupyter.widget-view+json": {
       "model_id": "d4ceb6e1926b496ba4ef37a9a0a7b8d0",
       "version_major": 2,
       "version_minor": 0
      },
      "text/plain": [
       "  0%|          | 0/42 [00:00<?, ?it/s]"
      ]
     },
     "metadata": {},
     "output_type": "display_data"
    },
    {
     "data": {
      "application/vnd.jupyter.widget-view+json": {
       "model_id": "224ea2e7b80940ceba1458fbe79ab110",
       "version_major": 2,
       "version_minor": 0
      },
      "text/plain": [
       "  0%|          | 0/42 [00:00<?, ?it/s]"
      ]
     },
     "metadata": {},
     "output_type": "display_data"
    },
    {
     "data": {
      "application/vnd.jupyter.widget-view+json": {
       "model_id": "f2e452fe884a400db57aba90b94743db",
       "version_major": 2,
       "version_minor": 0
      },
      "text/plain": [
       "  0%|          | 0/42 [00:00<?, ?it/s]"
      ]
     },
     "metadata": {},
     "output_type": "display_data"
    },
    {
     "data": {
      "application/vnd.jupyter.widget-view+json": {
       "model_id": "55c704dad7024fb7ba398748190f40ad",
       "version_major": 2,
       "version_minor": 0
      },
      "text/plain": [
       "  0%|          | 0/42 [00:00<?, ?it/s]"
      ]
     },
     "metadata": {},
     "output_type": "display_data"
    },
    {
     "data": {
      "application/vnd.jupyter.widget-view+json": {
       "model_id": "722a617e351e43b5a382074377207efe",
       "version_major": 2,
       "version_minor": 0
      },
      "text/plain": [
       "  0%|          | 0/42 [00:00<?, ?it/s]"
      ]
     },
     "metadata": {},
     "output_type": "display_data"
    },
    {
     "data": {
      "application/vnd.jupyter.widget-view+json": {
       "model_id": "182970c1952d4958aa737108e25f69d5",
       "version_major": 2,
       "version_minor": 0
      },
      "text/plain": [
       "  0%|          | 0/42 [00:00<?, ?it/s]"
      ]
     },
     "metadata": {},
     "output_type": "display_data"
    }
   ],
   "source": [
    "# eval_pool_probs_K_N_C = compute_joint_predictions_last_layer_functional(la, eval_pool_loader, n_samples=20)\n",
    "# torch.save(eval_pool_probs_K_N_C, \"bnn_eval_pool_probs_K_N_C_functional.pt\")"
   ]
  },
  {
   "cell_type": "code",
   "execution_count": 55,
   "id": "saving-addition",
   "metadata": {},
   "outputs": [],
   "source": [
    "import torch.jit\n",
    "from toma import toma\n",
    "from toma import cpu_memory"
   ]
  },
  {
   "cell_type": "code",
   "execution_count": 56,
   "id": "liberal-entrepreneur",
   "metadata": {},
   "outputs": [],
   "source": [
    "cpu_memory.set_cpu_memory_limit(20)"
   ]
  },
  {
   "cell_type": "code",
   "execution_count": 57,
   "id": "streaming-earth",
   "metadata": {},
   "outputs": [],
   "source": [
    "@torch.jit.script\n",
    "def compute_entropy(probs_C):\n",
    "    nats = -probs_C * probs_C.log()\n",
    "    nats = torch.where(nats.isnan(), 0.0, nats)\n",
    "    entropy = nats.sum(dim=-1)\n",
    "    return entropy\n",
    "\n",
    "\n",
    "@torch.jit.script\n",
    "def compute_bald(probs_K_N_C):\n",
    "    entropy_K_N = compute_entropy(probs_K_N_C)\n",
    "    entropy_N = entropy_K_N.mean(dim=0)\n",
    "    avg_probs_N_C = probs_K_N_C.mean(dim=0)\n",
    "    avg_entropy_N = compute_entropy(avg_probs_N_C)\n",
    "    score = avg_entropy_N - entropy_N\n",
    "    return score\n",
    "\n",
    "\n",
    "def compute_epig(eval_probs_K_M_C, acq_probs_K_N_C):\n",
    "    # I[Y_e; Y_a |X_e, x_a] = H[Y_e | X_e] + H[Y_a | x_a] - H[Y_e, Y_a | X_e, x_a]\n",
    "    H_eval = compute_entropy(eval_probs_K_M_C.mean(dim=0)).mean(dim=0)\n",
    "    H_acq_N = compute_entropy(acq_probs_K_N_C.mean(dim=0))\n",
    "\n",
    "    # Compute joint entropy\n",
    "    K = eval_probs_K_M_C.shape[0]\n",
    "    M = eval_probs_K_M_C.shape[1]\n",
    "    N = acq_probs_K_N_C.shape[1]\n",
    "    C = acq_probs_K_N_C.shape[2]\n",
    "\n",
    "    H_eval_acq_N = 0\n",
    "    \n",
    "    @toma.execute.batch(1024)\n",
    "    def loop(batchsize: int):\n",
    "        nonlocal H_eval_acq_N\n",
    "        H_eval_acq_N = 0\n",
    "        for eval_probs_K_m_C in tqdm(eval_probs_K_M_C.split(batchsize, dim=1)):\n",
    "            eval_probs_K_mC = eval_probs_K_m_C.reshape(K, eval_probs_K_m_C.shape[1] * C)\n",
    "            acq_probs_N_C_K = acq_probs_K_N_C.permute((1, 2, 0))\n",
    "            probs_N_C_mC = acq_probs_N_C_K @ eval_probs_K_mC / K\n",
    "            # print(probs_K_N_C_M_C.shape)\n",
    "            nats_N_C_mC = -probs_N_C_mC * probs_N_C_mC.log()\n",
    "            nats_N_C_mC = torch.where(nats_N_C_mC.isnan(), 0.0, nats_N_C_mC)\n",
    "            H_eval_acq_N += nats_N_C_mC.sum(dim=(1, 2))\n",
    "        \n",
    "        H_eval_acq_N /= M\n",
    "\n",
    "    epig_score_N = H_eval + H_acq_N - H_eval_acq_N\n",
    "    return epig_score_N"
   ]
  },
  {
   "cell_type": "code",
   "execution_count": 118,
   "id": "neutral-people",
   "metadata": {},
   "outputs": [
    {
     "data": {
      "text/plain": [
       "torch.Size([100, 21000, 10])"
      ]
     },
     "execution_count": 118,
     "metadata": {},
     "output_type": "execute_result"
    }
   ],
   "source": [
    "eval_pool_probs_K_N_C.shape"
   ]
  },
  {
   "cell_type": "code",
   "execution_count": 119,
   "id": "forbidden-closer",
   "metadata": {},
   "outputs": [],
   "source": [
    "bald_score = compute_bald(eval_pool_probs_K_N_C[:, len(eval_dataset) :])"
   ]
  },
  {
   "cell_type": "code",
   "execution_count": 120,
   "id": "familiar-truth",
   "metadata": {},
   "outputs": [
    {
     "data": {
      "text/plain": [
       "(tensor(1.7091e-05), tensor(1.1445))"
      ]
     },
     "execution_count": 120,
     "metadata": {},
     "output_type": "execute_result"
    }
   ],
   "source": [
    "bald_score.min(),bald_score.max()"
   ]
  },
  {
   "cell_type": "code",
   "execution_count": 121,
   "id": "korean-median",
   "metadata": {},
   "outputs": [
    {
     "data": {
      "application/vnd.jupyter.widget-view+json": {
       "model_id": "06aa27cdd0784f04999691efa0ac92d5",
       "version_major": 2,
       "version_minor": 0
      },
      "text/plain": [
       "  0%|          | 0/20 [00:00<?, ?it/s]"
      ]
     },
     "metadata": {},
     "output_type": "display_data"
    }
   ],
   "source": [
    "epig_score = compute_epig(\n",
    "    eval_pool_probs_K_N_C[:, : len(eval_dataset)].to(torch.float64),\n",
    "    eval_pool_probs_K_N_C[:, len(eval_dataset) :].to(torch.float64),\n",
    ")"
   ]
  },
  {
   "cell_type": "code",
   "execution_count": 122,
   "id": "retained-favorite",
   "metadata": {},
   "outputs": [
    {
     "data": {
      "text/plain": [
       "tensor([2.4132e-03, 3.1680e-03, 1.5370e-02, 5.6336e-03, 4.6324e-03, 6.8235e-03,\n",
       "        1.7525e-03, 5.0076e-03, 2.2676e-03, 9.8253e-03, 1.0877e-02, 1.0741e-02,\n",
       "        5.6237e-03, 1.6592e-02, 1.1088e-03, 5.5080e-04, 8.3453e-03, 6.5942e-03,\n",
       "        1.0002e-02, 7.2635e-06, 2.8603e-04, 1.6602e-04, 8.0445e-03, 3.3938e-04,\n",
       "        1.2998e-02, 8.3858e-04, 4.0461e-03, 6.6663e-03, 1.6802e-05, 4.1531e-04,\n",
       "        1.2717e-02, 1.9027e-04, 1.6332e-04, 9.0790e-03, 1.3036e-02, 1.0440e-02,\n",
       "        5.0492e-03, 3.3443e-03, 2.2953e-02, 9.3571e-03, 1.3172e-03, 7.7178e-03,\n",
       "        1.0588e-04, 1.1782e-04, 2.6948e-04, 2.4263e-02, 6.2775e-03, 1.7316e-03,\n",
       "        1.1973e-02, 1.5957e-03, 7.0551e-04, 3.5105e-03, 8.2786e-04, 2.0773e-02,\n",
       "        9.8144e-04, 1.3584e-02, 1.3553e-02, 1.5693e-03, 1.2084e-02, 1.5980e-02,\n",
       "        6.2482e-03, 1.9262e-03, 9.0287e-03, 7.7821e-03, 8.6221e-03, 1.1125e-02,\n",
       "        1.9706e-02, 1.1132e-02, 2.3457e-02, 1.3610e-04, 1.7529e-02, 1.3733e-02,\n",
       "        2.2265e-03, 1.4031e-02, 1.9286e-04, 1.1151e-02, 7.7409e-03, 1.0232e-03,\n",
       "        1.9015e-03, 1.5187e-02, 4.3025e-03, 8.3109e-04, 1.9323e-02, 1.7396e-03,\n",
       "        1.0129e-02, 9.3367e-03, 5.3708e-03, 4.7685e-05, 1.7534e-02, 8.4867e-03,\n",
       "        1.3337e-02, 1.1592e-02, 2.9137e-03, 2.0465e-02, 1.4599e-02, 5.9670e-03,\n",
       "        3.4252e-03, 2.1982e-02, 8.6455e-03, 9.8420e-03, 1.1263e-02, 6.7075e-03,\n",
       "        1.5774e-02, 8.1531e-03, 1.3418e-02, 4.4692e-04, 1.3975e-02, 1.0614e-02,\n",
       "        1.0147e-02, 1.2509e-02, 4.6964e-03, 3.6334e-04, 1.2920e-02, 8.4979e-03,\n",
       "        1.1100e-02, 6.1326e-06, 1.0075e-02, 7.4458e-04, 5.3569e-03, 3.1648e-03,\n",
       "        5.7932e-03, 2.5006e-03, 2.2605e-02, 5.9709e-03, 1.7142e-02, 1.3876e-02,\n",
       "        1.4328e-02, 1.8530e-02, 4.2162e-03, 7.5323e-04, 1.2613e-02, 3.1122e-04,\n",
       "        8.4659e-03, 4.7132e-03, 3.6888e-04, 8.9610e-03, 1.9602e-02, 1.3071e-02,\n",
       "        5.2104e-03, 9.8201e-03, 1.4749e-02, 4.8889e-03, 1.4313e-03, 7.8154e-05,\n",
       "        1.2732e-03, 6.0293e-03, 1.2245e-02, 1.2028e-02, 1.7195e-03, 1.5680e-02,\n",
       "        2.4165e-03, 3.5497e-03, 3.3920e-03, 1.6398e-02, 3.1424e-03, 1.4573e-02,\n",
       "        1.6970e-02, 1.7550e-03, 1.8143e-02, 1.8076e-03, 9.0536e-03, 1.9396e-02,\n",
       "        5.3393e-04, 2.1139e-02, 6.3956e-05, 7.4962e-03, 4.4009e-04, 1.2281e-02,\n",
       "        1.6592e-02, 9.0960e-03, 1.2544e-02, 3.8424e-03, 8.5363e-03, 7.4880e-04,\n",
       "        1.3109e-02, 3.0283e-05, 5.8893e-04, 7.6855e-03, 5.0916e-04, 1.6861e-03,\n",
       "        1.2759e-02, 2.4379e-02, 1.1586e-02, 3.3269e-05, 1.2834e-03, 1.0580e-02,\n",
       "        1.5810e-02, 3.7235e-03, 7.8588e-03, 1.0027e-04, 3.4554e-03, 3.2916e-03,\n",
       "        2.1696e-03, 1.1176e-02, 1.5083e-05, 4.3717e-04, 1.7053e-04, 1.1226e-02,\n",
       "        8.1174e-03, 5.3223e-03, 4.8894e-04, 1.4305e-02, 8.2150e-04, 5.6608e-03,\n",
       "        1.5738e-04, 5.6761e-03, 3.1396e-03, 5.9306e-03, 1.0311e-02, 1.1710e-02,\n",
       "        1.3295e-02, 1.0252e-02, 1.9713e-03, 1.1933e-02, 6.7671e-04, 1.4324e-02,\n",
       "        4.5201e-03, 7.6785e-03, 1.0016e-03, 8.5808e-03, 5.8948e-04, 1.5015e-02,\n",
       "        3.0633e-03, 5.5551e-03, 1.8171e-02, 1.0131e-02, 2.3074e-02, 2.9750e-03,\n",
       "        4.9916e-03, 2.3912e-03, 4.1307e-03, 1.2620e-02, 9.9791e-03, 1.0879e-02,\n",
       "        1.0286e-02, 1.9227e-02, 1.3087e-02, 1.6050e-02, 8.3350e-03, 7.2797e-03,\n",
       "        4.2291e-03, 1.3477e-02, 1.2717e-03, 2.0209e-03, 3.7911e-03, 5.9898e-03,\n",
       "        9.0644e-04, 8.0360e-03, 9.6235e-03, 1.6438e-02, 4.5152e-06, 5.9018e-03,\n",
       "        1.6393e-02, 2.2031e-03, 5.2090e-04, 6.7157e-03, 7.8725e-03, 8.5515e-04,\n",
       "        3.5355e-03, 8.4602e-03, 5.9600e-03, 1.7345e-02, 5.1389e-04, 3.4467e-03,\n",
       "        8.8372e-03, 1.3115e-02, 1.3076e-02, 3.0509e-03, 8.1888e-03, 3.6371e-03,\n",
       "        5.9202e-04, 2.8679e-03, 1.0169e-02, 2.5726e-04, 6.7025e-03, 1.1687e-03,\n",
       "        8.6870e-03, 9.7132e-03, 8.7067e-03, 2.8308e-04, 5.5149e-03, 3.2403e-03,\n",
       "        4.2817e-03, 2.2161e-02, 6.0186e-03, 1.1210e-04, 3.6923e-03, 1.6587e-02,\n",
       "        1.0832e-02, 5.4571e-04, 1.7117e-02, 2.7737e-04, 4.5647e-03, 3.3994e-03,\n",
       "        1.0314e-04, 6.4826e-03, 4.3599e-04, 5.7254e-03, 2.2382e-02, 1.5574e-03,\n",
       "        1.4421e-05, 1.4498e-02, 2.2134e-03, 1.7199e-04, 9.0872e-04, 1.4556e-02,\n",
       "        7.7778e-03, 9.5758e-03, 2.2245e-02, 9.2460e-04, 1.0745e-02, 9.2010e-03,\n",
       "        6.0038e-03, 7.3685e-03, 6.8136e-03, 5.7960e-03, 2.6407e-05, 8.1395e-04,\n",
       "        2.7114e-03, 5.0914e-03, 1.7989e-02, 1.1417e-02, 1.1747e-02, 1.1290e-02,\n",
       "        2.3487e-05, 1.7238e-04, 5.2643e-03, 9.6637e-04, 1.3191e-02, 7.1019e-03,\n",
       "        7.2718e-04, 2.0149e-03, 1.6725e-05, 7.9120e-03, 2.9637e-03, 1.4437e-02,\n",
       "        3.1440e-05, 1.9328e-02, 8.9084e-03, 8.1274e-03, 3.0331e-04, 4.7544e-05,\n",
       "        5.2632e-03, 7.0103e-05, 1.1184e-02, 7.7943e-04, 5.7162e-03, 2.6756e-04,\n",
       "        8.2761e-03, 2.3445e-03, 2.1397e-04, 1.1275e-02, 6.1116e-04, 2.4286e-05,\n",
       "        6.5849e-03, 8.1866e-03, 5.2691e-03, 1.0019e-03, 9.7879e-03, 4.6885e-03,\n",
       "        3.0794e-03, 7.6477e-05, 1.0615e-02, 2.7874e-04, 9.3645e-04, 6.5221e-03,\n",
       "        1.5336e-03, 1.7045e-02, 4.3054e-03, 1.1405e-03, 1.6167e-02, 7.8605e-03,\n",
       "        1.0281e-02, 9.1194e-03, 1.2985e-02, 1.1362e-03, 1.5472e-03, 7.6243e-03,\n",
       "        1.0473e-02, 1.9167e-02, 1.0847e-02, 1.6083e-02, 1.4687e-03, 1.1871e-02,\n",
       "        8.2868e-03, 1.5804e-04, 2.0933e-04, 1.4149e-04, 1.0046e-02, 4.5866e-03,\n",
       "        1.3119e-02, 1.7901e-03, 9.9657e-03, 7.9851e-05, 4.9446e-04, 6.1550e-03,\n",
       "        4.4864e-04, 2.1242e-03, 1.3992e-02, 1.0097e-05, 1.3201e-02, 9.5869e-03,\n",
       "        5.7537e-03, 1.0784e-02, 9.8345e-04, 1.2162e-02, 5.7137e-03, 1.4455e-03,\n",
       "        1.8051e-02, 1.7387e-02, 8.9534e-06, 6.0017e-06, 2.6661e-03, 1.7003e-02,\n",
       "        5.1865e-03, 9.9887e-04, 1.1445e-02, 1.1357e-02, 5.4506e-04, 8.6274e-03,\n",
       "        2.2618e-02, 7.7615e-06, 2.5969e-05, 5.7511e-03, 1.3442e-02, 1.5808e-04,\n",
       "        6.0401e-03, 1.1694e-02, 1.8614e-04, 4.8470e-03, 1.0340e-03, 6.3045e-03,\n",
       "        2.8401e-03, 1.5404e-02, 1.5768e-04, 4.5269e-05, 1.5964e-02, 1.3587e-02,\n",
       "        6.9311e-03, 5.3085e-03, 1.6902e-02, 1.0094e-02, 3.2946e-04, 1.8686e-03,\n",
       "        7.7864e-03, 2.1930e-02, 1.1778e-02, 5.9491e-04, 1.3396e-02, 1.4696e-04,\n",
       "        8.0044e-04, 4.7675e-04, 6.1595e-03, 2.2985e-04, 1.6154e-02, 1.4394e-02,\n",
       "        1.5820e-02, 3.0073e-04, 6.6801e-03, 2.2434e-03, 1.2656e-02, 8.1078e-04,\n",
       "        1.3229e-02, 1.0560e-02, 1.2381e-02, 1.3667e-02, 1.7135e-02, 8.5039e-03,\n",
       "        4.4939e-06, 1.9046e-02, 1.3973e-02, 7.0261e-06, 9.0103e-03, 3.1464e-05,\n",
       "        4.1586e-04, 2.2686e-04, 1.6586e-03, 9.9679e-03, 1.0914e-02, 1.0167e-02,\n",
       "        1.0111e-04, 1.0857e-03, 1.6413e-02, 2.3644e-03, 8.1596e-04, 9.8284e-03,\n",
       "        1.6735e-02, 1.0609e-02, 7.4942e-04, 1.4179e-02, 1.0118e-02, 2.7382e-03,\n",
       "        4.1235e-03, 1.0298e-04, 1.0833e-06, 1.3644e-02, 2.1655e-03, 2.8899e-03,\n",
       "        6.6468e-03, 1.5438e-02, 6.8337e-03, 1.2415e-02, 3.5142e-04, 4.8988e-03,\n",
       "        1.8804e-02, 2.9276e-03, 8.5170e-03, 5.2077e-05, 4.9286e-04, 3.9115e-04,\n",
       "        2.5455e-02, 4.7258e-03, 6.2635e-03, 6.8177e-05, 8.0221e-05, 3.4140e-03,\n",
       "        1.6878e-03, 7.5581e-03, 2.5151e-03, 1.7474e-02, 8.4171e-03, 7.7189e-03,\n",
       "        2.3281e-02, 5.0045e-03, 3.4017e-03, 1.2086e-02, 1.6604e-02, 3.2066e-05,\n",
       "        2.5014e-05, 1.1571e-02, 4.6122e-04, 6.8835e-03, 3.6975e-03, 4.8300e-03,\n",
       "        8.8288e-03, 1.2375e-04, 4.0345e-03, 1.1374e-02, 6.3817e-04, 1.5424e-02,\n",
       "        1.2084e-05, 5.1690e-03, 2.6768e-03, 1.3643e-03, 1.8462e-04, 1.6360e-02,\n",
       "        6.1588e-03, 1.5024e-02, 2.3848e-03, 2.6947e-02, 3.4679e-05, 1.7555e-02,\n",
       "        2.4349e-03, 1.7177e-03, 8.2226e-03, 6.6286e-03, 1.0843e-06, 2.0253e-02,\n",
       "        1.6858e-03, 2.0579e-02, 4.9922e-05, 4.1307e-04, 2.4962e-06, 7.3399e-04,\n",
       "        1.3484e-02, 2.4435e-04, 1.5123e-02, 8.2273e-03, 1.0663e-03, 1.1920e-02,\n",
       "        1.0839e-02, 6.7742e-03, 9.6393e-05, 4.3545e-03, 4.4125e-03, 9.5708e-03,\n",
       "        1.2762e-03, 5.3006e-06, 1.9756e-02, 7.8394e-04, 1.2674e-02, 1.1730e-02,\n",
       "        2.9782e-03, 8.2896e-03, 2.1258e-02, 1.5136e-02, 2.0435e-02, 7.6090e-03,\n",
       "        8.5241e-03, 1.4170e-03, 4.7271e-05, 9.9555e-03, 8.0233e-03, 7.6995e-03,\n",
       "        8.8439e-03, 6.9338e-03, 6.4288e-05, 1.3240e-02, 7.1250e-03, 1.2166e-02,\n",
       "        2.9216e-03, 1.6829e-04, 1.5234e-02, 1.0441e-02, 1.2149e-02, 1.7312e-02,\n",
       "        3.3298e-04, 3.7896e-04, 7.8814e-03, 9.5538e-05, 5.7987e-05, 9.6291e-04,\n",
       "        1.2544e-02, 2.3994e-02, 7.6155e-03, 3.0865e-04, 7.8418e-03, 1.6929e-02,\n",
       "        4.0028e-03, 1.9540e-02, 6.7322e-03, 4.9027e-03, 6.5923e-03, 5.5538e-04,\n",
       "        1.0772e-03, 2.7917e-04, 6.7177e-03, 8.5648e-04, 1.6504e-02, 5.6624e-03,\n",
       "        9.7248e-03, 2.0549e-04, 3.3434e-03, 2.6751e-05, 7.7408e-03, 1.4931e-02,\n",
       "        7.3247e-03, 1.6922e-02, 1.0015e-02, 1.5896e-02, 1.5512e-02, 4.5749e-03,\n",
       "        6.7866e-05, 3.9219e-03, 8.1345e-03, 8.3209e-04, 5.1845e-03, 7.7810e-03,\n",
       "        1.9646e-03, 1.7468e-02, 3.6944e-03, 1.1910e-02, 7.2021e-04, 5.6998e-03,\n",
       "        9.3941e-03, 7.6099e-03, 4.1223e-03, 2.0814e-02, 1.5660e-02, 5.9569e-04,\n",
       "        2.4402e-04, 5.3532e-03, 6.4910e-03, 5.7008e-03, 1.1325e-02, 2.4651e-03,\n",
       "        7.9171e-03, 5.0390e-04, 1.1973e-05, 1.4443e-02, 1.4637e-04, 2.6708e-03,\n",
       "        6.2984e-03, 1.5261e-02, 1.0637e-02, 2.3123e-02, 3.8806e-03, 2.0415e-02,\n",
       "        6.3801e-03, 6.7719e-04, 1.6526e-02, 7.3345e-04, 1.9160e-02, 5.3729e-03,\n",
       "        9.1603e-04, 1.2576e-02, 6.6492e-03, 4.5387e-03, 1.9542e-02, 1.3913e-02,\n",
       "        1.1064e-02, 2.8177e-03, 8.9694e-03, 3.1412e-03, 2.2729e-04, 4.2674e-03,\n",
       "        2.1969e-04, 1.2570e-02, 1.1816e-02, 3.2143e-04, 5.0526e-03, 2.1987e-02,\n",
       "        1.7100e-02, 1.5372e-03, 1.0334e-03, 1.0843e-02, 1.8048e-03, 2.4932e-04,\n",
       "        1.0234e-02, 5.7081e-03, 9.5797e-03, 1.7254e-02, 1.3325e-02, 4.7352e-03,\n",
       "        8.5657e-03, 7.6655e-03, 5.5156e-03, 1.0908e-02, 3.2100e-05, 2.5247e-02,\n",
       "        9.0619e-03, 4.7472e-03, 4.5708e-03, 1.5159e-02, 5.3122e-03, 8.7413e-04,\n",
       "        1.9134e-03, 1.2179e-03, 1.6932e-02, 1.9438e-03, 3.9874e-03, 1.2170e-02,\n",
       "        7.8989e-04, 6.7908e-03, 5.5285e-03, 4.5896e-04, 5.9869e-05, 2.3890e-04,\n",
       "        1.2581e-02, 1.4960e-02, 1.6146e-02, 4.8137e-05, 1.9840e-04, 2.6099e-06,\n",
       "        1.0646e-03, 1.0977e-02, 3.4999e-03, 4.0355e-05, 6.5208e-04, 3.7985e-04,\n",
       "        2.3736e-03, 1.2006e-03, 5.2123e-03, 1.4167e-02, 9.7879e-04, 1.9437e-02,\n",
       "        3.8972e-03, 6.6122e-03, 1.3929e-02, 1.0757e-02, 1.6806e-02, 3.0739e-04,\n",
       "        2.5042e-05, 1.2479e-02, 3.8449e-04, 1.3953e-02, 2.9685e-04, 1.6421e-02,\n",
       "        1.6419e-02, 1.1405e-04, 4.2592e-03, 3.5091e-03, 9.5916e-04, 8.8976e-03,\n",
       "        1.0394e-03, 2.2584e-03, 2.0484e-02, 3.5824e-03, 1.6272e-04, 7.2877e-03,\n",
       "        1.3543e-02, 4.3208e-03, 9.2425e-03, 3.7270e-03, 1.1795e-02, 1.5498e-02,\n",
       "        1.0398e-03, 2.0410e-02, 1.6325e-03, 2.2001e-02, 1.9405e-02, 4.7674e-03,\n",
       "        1.0788e-02, 2.9252e-03, 5.5686e-03, 7.7330e-03, 2.2586e-02, 7.9241e-04,\n",
       "        1.8789e-02, 2.3997e-04, 5.0803e-04, 3.4963e-03, 2.7860e-05, 1.3602e-04,\n",
       "        1.3888e-02, 1.5441e-03, 6.1145e-05, 3.7615e-03, 1.6370e-03, 1.8246e-02,\n",
       "        2.6074e-03, 4.3779e-06, 2.8949e-05, 3.1763e-03, 2.3817e-03, 7.6955e-03,\n",
       "        7.8183e-03, 1.6488e-03, 3.9457e-03, 1.8296e-02, 1.9831e-04, 2.4790e-03,\n",
       "        1.0668e-06, 1.3525e-02, 3.0604e-03, 1.1204e-04, 1.9803e-03, 1.1365e-03,\n",
       "        4.0378e-03, 1.3386e-02, 1.1473e-02, 6.3820e-03, 6.3773e-03, 3.3199e-05,\n",
       "        7.6398e-03, 1.9780e-02, 1.9278e-02, 4.2025e-03, 3.0768e-03, 5.9078e-03,\n",
       "        5.4617e-03, 1.0191e-03, 1.5473e-02, 9.4761e-03, 3.6470e-03, 6.9630e-04,\n",
       "        5.1290e-03, 3.5529e-03, 1.3647e-02, 1.7016e-03, 8.7005e-03, 1.0333e-05,\n",
       "        1.9649e-03, 1.1893e-02, 1.1125e-02, 1.9180e-04, 2.4688e-03, 4.4159e-03,\n",
       "        2.0278e-04, 3.5460e-05, 1.5578e-02, 3.1153e-03, 3.0389e-03, 1.4500e-02,\n",
       "        1.9278e-02, 3.3494e-04, 1.3732e-02, 5.3447e-05, 1.1747e-02, 1.8799e-04,\n",
       "        1.6345e-02, 1.0803e-05, 4.5800e-03, 2.5180e-03, 5.5112e-03, 3.1259e-03,\n",
       "        1.4758e-05, 7.0994e-05, 6.6698e-04, 1.7686e-02, 1.0843e-02, 1.0698e-03,\n",
       "        3.0712e-03, 4.8509e-03, 8.0781e-03, 2.9714e-03, 1.2102e-02, 2.1291e-02,\n",
       "        1.1970e-02, 9.7297e-03, 1.6852e-02, 1.7577e-02, 2.5519e-03, 4.8868e-05,\n",
       "        5.5265e-03, 4.7078e-05, 3.8151e-05, 4.8310e-03, 1.9379e-03, 1.4136e-02,\n",
       "        8.8313e-03, 2.3376e-05, 1.8906e-03, 4.7833e-03, 3.0884e-03, 2.0325e-05,\n",
       "        1.3351e-04, 7.3634e-03, 1.6857e-03, 1.4053e-02, 8.7140e-03, 2.0514e-02,\n",
       "        7.3627e-04, 3.1539e-03, 1.2441e-03, 8.0434e-03, 1.0333e-02, 7.6182e-03,\n",
       "        7.6862e-03, 1.7760e-03, 1.6132e-02, 6.9814e-03, 1.7217e-02, 1.1438e-02,\n",
       "        8.8298e-03, 4.5813e-04, 1.1180e-02, 1.3186e-02, 1.4632e-02, 1.0621e-03,\n",
       "        6.2125e-04, 2.7416e-02, 1.8043e-02, 5.4607e-03, 5.5661e-03, 1.7053e-06,\n",
       "        3.6901e-03, 1.0123e-02, 1.4805e-02, 3.3065e-03, 2.8998e-05, 3.0920e-03,\n",
       "        1.0121e-04, 8.4461e-03, 8.9326e-03, 4.0493e-03, 1.6182e-02, 1.3802e-02,\n",
       "        1.6312e-03, 2.0906e-02, 4.1438e-04, 7.4813e-06, 5.6143e-03, 8.5251e-04,\n",
       "        6.6886e-03, 7.3914e-04, 4.6582e-04, 4.1229e-05, 1.8964e-03, 1.9576e-02,\n",
       "        1.9554e-03, 5.9838e-03, 1.6346e-05, 5.4083e-03, 2.3556e-05, 9.1818e-03,\n",
       "        5.1683e-05, 2.9947e-03, 1.3046e-02, 3.4280e-04, 5.4779e-03, 2.1036e-03,\n",
       "        5.0091e-03, 4.8737e-04, 5.0925e-03, 4.3335e-03, 1.7942e-02, 8.8797e-05,\n",
       "        7.8339e-03, 1.1047e-02, 4.8075e-05, 9.8619e-03, 1.7063e-05, 1.7413e-02,\n",
       "        1.7240e-04, 6.3330e-03, 9.3078e-03, 8.8231e-03, 1.9800e-03, 9.2429e-03,\n",
       "        3.5695e-03, 3.7232e-03, 1.7665e-02, 4.5554e-03, 7.6960e-05, 1.1145e-02,\n",
       "        9.5720e-04, 2.7620e-03, 5.2038e-04, 9.2610e-03], dtype=torch.float64)"
      ]
     },
     "execution_count": 122,
     "metadata": {},
     "output_type": "execute_result"
    }
   ],
   "source": [
    "epig_score\n"
   ]
  },
  {
   "cell_type": "code",
   "execution_count": 123,
   "id": "innocent-battery",
   "metadata": {},
   "outputs": [],
   "source": [
    "import matplotlib.pyplot as plt"
   ]
  },
  {
   "cell_type": "code",
   "execution_count": 124,
   "id": "alone-crime",
   "metadata": {},
   "outputs": [
    {
     "data": {
      "image/png": "[encoded data removed]",
      "text/plain": [
       "<Figure size 432x288 with 1 Axes>"
      ]
     },
     "metadata": {
      "needs_background": "light"
     },
     "output_type": "display_data"
    }
   ],
   "source": [
    "sorted_indices = bald_score.argsort(descending=True)\n",
    "plt.plot(epig_score[sorted_indices].numpy())\n",
    "plt.plot(bald_score[sorted_indices].numpy())\n",
    "plt.yscale(\"log\")"
   ]
  },
  {
   "cell_type": "code",
   "execution_count": 93,
   "id": "dedicated-token",
   "metadata": {},
   "outputs": [
    {
     "name": "stdout",
     "output_type": "stream",
     "text": [
      "Requirement already satisfied: seaborn[stats] in /home/blackhc/anaconda3/envs/unifying_dss_exp/lib/python3.9/site-packages (0.12.0)\n",
      "Requirement already satisfied: matplotlib>=3.1 in /home/blackhc/anaconda3/envs/unifying_dss_exp/lib/python3.9/site-packages (from seaborn[stats]) (3.6.0)\n",
      "Requirement already satisfied: numpy>=1.17 in /home/blackhc/anaconda3/envs/unifying_dss_exp/lib/python3.9/site-packages (from seaborn[stats]) (1.23.1)\n",
      "Requirement already satisfied: pandas>=0.25 in /home/blackhc/anaconda3/envs/unifying_dss_exp/lib/python3.9/site-packages (from seaborn[stats]) (1.4.4)\n",
      "Requirement already satisfied: scipy>=1.3 in /home/blackhc/anaconda3/envs/unifying_dss_exp/lib/python3.9/site-packages (from seaborn[stats]) (1.9.1)\n",
      "Requirement already satisfied: statsmodels>=0.10 in /home/blackhc/anaconda3/envs/unifying_dss_exp/lib/python3.9/site-packages (from seaborn[stats]) (0.13.2)\n",
      "Requirement already satisfied: python-dateutil>=2.7 in /home/blackhc/anaconda3/envs/unifying_dss_exp/lib/python3.9/site-packages (from matplotlib>=3.1->seaborn[stats]) (2.8.2)\n",
      "Requirement already satisfied: pillow>=6.2.0 in /home/blackhc/anaconda3/envs/unifying_dss_exp/lib/python3.9/site-packages (from matplotlib>=3.1->seaborn[stats]) (9.2.0)\n",
      "Requirement already satisfied: cycler>=0.10 in /home/blackhc/anaconda3/envs/unifying_dss_exp/lib/python3.9/site-packages (from matplotlib>=3.1->seaborn[stats]) (0.11.0)\n",
      "Requirement already satisfied: contourpy>=1.0.1 in /home/blackhc/anaconda3/envs/unifying_dss_exp/lib/python3.9/site-packages (from matplotlib>=3.1->seaborn[stats]) (1.0.5)\n",
      "Requirement already satisfied: pyparsing>=2.2.1 in /home/blackhc/anaconda3/envs/unifying_dss_exp/lib/python3.9/site-packages (from matplotlib>=3.1->seaborn[stats]) (3.0.9)\n",
      "Requirement already satisfied: packaging>=20.0 in /home/blackhc/anaconda3/envs/unifying_dss_exp/lib/python3.9/site-packages (from matplotlib>=3.1->seaborn[stats]) (21.3)\n",
      "Requirement already satisfied: fonttools>=4.22.0 in /home/blackhc/anaconda3/envs/unifying_dss_exp/lib/python3.9/site-packages (from matplotlib>=3.1->seaborn[stats]) (4.37.2)\n",
      "Requirement already satisfied: kiwisolver>=1.0.1 in /home/blackhc/anaconda3/envs/unifying_dss_exp/lib/python3.9/site-packages (from matplotlib>=3.1->seaborn[stats]) (1.4.4)\n",
      "Requirement already satisfied: pytz>=2020.1 in /home/blackhc/anaconda3/envs/unifying_dss_exp/lib/python3.9/site-packages (from pandas>=0.25->seaborn[stats]) (2022.2.1)\n",
      "Requirement already satisfied: patsy>=0.5.2 in /home/blackhc/anaconda3/envs/unifying_dss_exp/lib/python3.9/site-packages (from statsmodels>=0.10->seaborn[stats]) (0.5.2)\n",
      "Requirement already satisfied: six in /home/blackhc/anaconda3/envs/unifying_dss_exp/lib/python3.9/site-packages (from patsy>=0.5.2->statsmodels>=0.10->seaborn[stats]) (1.16.0)\n"
     ]
    }
   ],
   "source": [
    "!pip install seaborn[stats]"
   ]
  },
  {
   "cell_type": "code",
   "execution_count": 94,
   "id": "nervous-harvest",
   "metadata": {},
   "outputs": [],
   "source": [
    "import seaborn as sns"
   ]
  },
  {
   "cell_type": "code",
   "execution_count": 95,
   "id": "cubic-electron",
   "metadata": {},
   "outputs": [],
   "source": [
    "import pandas as pd"
   ]
  },
  {
   "cell_type": "code",
   "execution_count": 96,
   "id": "wrapped-individual",
   "metadata": {},
   "outputs": [
    {
     "data": {
      "text/html": [
       "<div>\n",
       "<style scoped>\n",
       "    .dataframe tbody tr th:only-of-type {\n",
       "        vertical-align: middle;\n",
       "    }\n",
       "\n",
       "    .dataframe tbody tr th {\n",
       "        vertical-align: top;\n",
       "    }\n",
       "\n",
       "    .dataframe thead th {\n",
       "        text-align: right;\n",
       "    }\n",
       "</style>\n",
       "<table border=\"1\" class=\"dataframe\">\n",
       "  <thead>\n",
       "    <tr style=\"text-align: right;\">\n",
       "      <th></th>\n",
       "      <th>xig_approx_log_det</th>\n",
       "      <th>xig_approx_trace</th>\n",
       "      <th>xig_proxy</th>\n",
       "      <th>xpig_proxy_log_det</th>\n",
       "      <th>xpig_proxy_trace</th>\n",
       "      <th>jxpig_proxy_log_det</th>\n",
       "      <th>jxpig_proxy_trace</th>\n",
       "    </tr>\n",
       "  </thead>\n",
       "  <tbody>\n",
       "    <tr>\n",
       "      <th>0</th>\n",
       "      <td>0.073518</td>\n",
       "      <td>0.079160</td>\n",
       "      <td>-2630.816885</td>\n",
       "      <td>123.247716</td>\n",
       "      <td>531.319025</td>\n",
       "      <td>5585.296566</td>\n",
       "      <td>1.062638e+07</td>\n",
       "    </tr>\n",
       "    <tr>\n",
       "      <th>1</th>\n",
       "      <td>0.041483</td>\n",
       "      <td>0.042563</td>\n",
       "      <td>-2630.848919</td>\n",
       "      <td>123.307826</td>\n",
       "      <td>534.369649</td>\n",
       "      <td>5585.360472</td>\n",
       "      <td>1.068739e+07</td>\n",
       "    </tr>\n",
       "    <tr>\n",
       "      <th>2</th>\n",
       "      <td>4.672380</td>\n",
       "      <td>1082.447666</td>\n",
       "      <td>-2626.218023</td>\n",
       "      <td>120.141406</td>\n",
       "      <td>484.193765</td>\n",
       "      <td>5576.253764</td>\n",
       "      <td>9.683875e+06</td>\n",
       "    </tr>\n",
       "    <tr>\n",
       "      <th>3</th>\n",
       "      <td>0.038386</td>\n",
       "      <td>0.039558</td>\n",
       "      <td>-2630.852017</td>\n",
       "      <td>123.330052</td>\n",
       "      <td>536.557832</td>\n",
       "      <td>5585.366829</td>\n",
       "      <td>1.073116e+07</td>\n",
       "    </tr>\n",
       "    <tr>\n",
       "      <th>4</th>\n",
       "      <td>0.004179</td>\n",
       "      <td>0.004194</td>\n",
       "      <td>-2630.886224</td>\n",
       "      <td>123.372711</td>\n",
       "      <td>537.249969</td>\n",
       "      <td>5585.435106</td>\n",
       "      <td>1.074500e+07</td>\n",
       "    </tr>\n",
       "    <tr>\n",
       "      <th>...</th>\n",
       "      <td>...</td>\n",
       "      <td>...</td>\n",
       "      <td>...</td>\n",
       "      <td>...</td>\n",
       "      <td>...</td>\n",
       "      <td>...</td>\n",
       "      <td>...</td>\n",
       "    </tr>\n",
       "    <tr>\n",
       "      <th>995</th>\n",
       "      <td>0.416036</td>\n",
       "      <td>0.648732</td>\n",
       "      <td>-2630.474367</td>\n",
       "      <td>122.675584</td>\n",
       "      <td>513.312366</td>\n",
       "      <td>5584.611673</td>\n",
       "      <td>1.026625e+07</td>\n",
       "    </tr>\n",
       "    <tr>\n",
       "      <th>996</th>\n",
       "      <td>0.000049</td>\n",
       "      <td>0.000049</td>\n",
       "      <td>-2630.890354</td>\n",
       "      <td>123.379587</td>\n",
       "      <td>537.484056</td>\n",
       "      <td>5585.443377</td>\n",
       "      <td>1.074968e+07</td>\n",
       "    </tr>\n",
       "    <tr>\n",
       "      <th>997</th>\n",
       "      <td>0.007150</td>\n",
       "      <td>0.007201</td>\n",
       "      <td>-2630.883253</td>\n",
       "      <td>123.367602</td>\n",
       "      <td>536.901617</td>\n",
       "      <td>5585.429184</td>\n",
       "      <td>1.073803e+07</td>\n",
       "    </tr>\n",
       "    <tr>\n",
       "      <th>998</th>\n",
       "      <td>0.033534</td>\n",
       "      <td>0.034610</td>\n",
       "      <td>-2630.856869</td>\n",
       "      <td>123.323768</td>\n",
       "      <td>534.839015</td>\n",
       "      <td>5585.376397</td>\n",
       "      <td>1.069678e+07</td>\n",
       "    </tr>\n",
       "    <tr>\n",
       "      <th>999</th>\n",
       "      <td>1.491524</td>\n",
       "      <td>4.143443</td>\n",
       "      <td>-2629.398879</td>\n",
       "      <td>121.705195</td>\n",
       "      <td>514.895914</td>\n",
       "      <td>5582.461914</td>\n",
       "      <td>1.029792e+07</td>\n",
       "    </tr>\n",
       "  </tbody>\n",
       "</table>\n",
       "<p>1000 rows × 7 columns</p>\n",
       "</div>"
      ],
      "text/plain": [
       "     xig_approx_log_det  xig_approx_trace    xig_proxy  xpig_proxy_log_det  \\\n",
       "0              0.073518          0.079160 -2630.816885          123.247716   \n",
       "1              0.041483          0.042563 -2630.848919          123.307826   \n",
       "2              4.672380       1082.447666 -2626.218023          120.141406   \n",
       "3              0.038386          0.039558 -2630.852017          123.330052   \n",
       "4              0.004179          0.004194 -2630.886224          123.372711   \n",
       "..                  ...               ...          ...                 ...   \n",
       "995            0.416036          0.648732 -2630.474367          122.675584   \n",
       "996            0.000049          0.000049 -2630.890354          123.379587   \n",
       "997            0.007150          0.007201 -2630.883253          123.367602   \n",
       "998            0.033534          0.034610 -2630.856869          123.323768   \n",
       "999            1.491524          4.143443 -2629.398879          121.705195   \n",
       "\n",
       "     xpig_proxy_trace  jxpig_proxy_log_det  jxpig_proxy_trace  \n",
       "0          531.319025          5585.296566       1.062638e+07  \n",
       "1          534.369649          5585.360472       1.068739e+07  \n",
       "2          484.193765          5576.253764       9.683875e+06  \n",
       "3          536.557832          5585.366829       1.073116e+07  \n",
       "4          537.249969          5585.435106       1.074500e+07  \n",
       "..                ...                  ...                ...  \n",
       "995        513.312366          5584.611673       1.026625e+07  \n",
       "996        537.484056          5585.443377       1.074968e+07  \n",
       "997        536.901617          5585.429184       1.073803e+07  \n",
       "998        534.839015          5585.376397       1.069678e+07  \n",
       "999        514.895914          5582.461914       1.029792e+07  \n",
       "\n",
       "[1000 rows x 7 columns]"
      ]
     },
     "execution_count": 96,
     "metadata": {},
     "output_type": "execute_result"
    }
   ],
   "source": [
    "df_quantities = pd.DataFrame.from_dict(pool_weight_space_quantities)\n",
    "df_quantities\n"
   ]
  },
  {
   "cell_type": "code",
   "execution_count": 97,
   "id": "tested-cycle",
   "metadata": {},
   "outputs": [],
   "source": [
    "df_quantities[\"bald\"]=bald_score"
   ]
  },
  {
   "cell_type": "code",
   "execution_count": 98,
   "id": "absent-candle",
   "metadata": {},
   "outputs": [],
   "source": [
    "df_quantities[\"epig\"]=epig_score"
   ]
  },
  {
   "cell_type": "code",
   "execution_count": 125,
   "id": "promising-malta",
   "metadata": {},
   "outputs": [
    {
     "data": {
      "text/html": [
       "<div>\n",
       "<style scoped>\n",
       "    .dataframe tbody tr th:only-of-type {\n",
       "        vertical-align: middle;\n",
       "    }\n",
       "\n",
       "    .dataframe tbody tr th {\n",
       "        vertical-align: top;\n",
       "    }\n",
       "\n",
       "    .dataframe thead th {\n",
       "        text-align: right;\n",
       "    }\n",
       "</style>\n",
       "<table border=\"1\" class=\"dataframe\">\n",
       "  <thead>\n",
       "    <tr style=\"text-align: right;\">\n",
       "      <th></th>\n",
       "      <th>xig_approx_log_det</th>\n",
       "      <th>xig_approx_trace</th>\n",
       "      <th>xig_proxy</th>\n",
       "      <th>xpig_proxy_log_det</th>\n",
       "      <th>xpig_proxy_trace</th>\n",
       "      <th>jxpig_proxy_log_det</th>\n",
       "      <th>jxpig_proxy_trace</th>\n",
       "      <th>bald</th>\n",
       "      <th>epig</th>\n",
       "      <th>average_normalized_score</th>\n",
       "      <th>average_ig_score</th>\n",
       "      <th>average_pig_score</th>\n",
       "    </tr>\n",
       "  </thead>\n",
       "  <tbody>\n",
       "    <tr>\n",
       "      <th>0</th>\n",
       "      <td>408.0</td>\n",
       "      <td>408.0</td>\n",
       "      <td>408.0</td>\n",
       "      <td>589.0</td>\n",
       "      <td>569.0</td>\n",
       "      <td>593.0</td>\n",
       "      <td>569.0</td>\n",
       "      <td>304.0</td>\n",
       "      <td>335.0</td>\n",
       "      <td>370.0</td>\n",
       "      <td>364.0</td>\n",
       "      <td>377.0</td>\n",
       "    </tr>\n",
       "    <tr>\n",
       "      <th>1</th>\n",
       "      <td>376.0</td>\n",
       "      <td>376.0</td>\n",
       "      <td>376.0</td>\n",
       "      <td>623.0</td>\n",
       "      <td>610.0</td>\n",
       "      <td>625.0</td>\n",
       "      <td>610.0</td>\n",
       "      <td>349.0</td>\n",
       "      <td>381.0</td>\n",
       "      <td>378.0</td>\n",
       "      <td>370.0</td>\n",
       "      <td>385.5</td>\n",
       "    </tr>\n",
       "    <tr>\n",
       "      <th>2</th>\n",
       "      <td>849.0</td>\n",
       "      <td>907.0</td>\n",
       "      <td>849.0</td>\n",
       "      <td>198.0</td>\n",
       "      <td>230.0</td>\n",
       "      <td>152.0</td>\n",
       "      <td>230.0</td>\n",
       "      <td>868.0</td>\n",
       "      <td>871.0</td>\n",
       "      <td>862.0</td>\n",
       "      <td>875.0</td>\n",
       "      <td>851.0</td>\n",
       "    </tr>\n",
       "    <tr>\n",
       "      <th>3</th>\n",
       "      <td>372.0</td>\n",
       "      <td>372.0</td>\n",
       "      <td>372.0</td>\n",
       "      <td>639.0</td>\n",
       "      <td>670.0</td>\n",
       "      <td>629.0</td>\n",
       "      <td>670.0</td>\n",
       "      <td>507.0</td>\n",
       "      <td>504.0</td>\n",
       "      <td>438.0</td>\n",
       "      <td>445.0</td>\n",
       "      <td>431.0</td>\n",
       "    </tr>\n",
       "    <tr>\n",
       "      <th>4</th>\n",
       "      <td>273.0</td>\n",
       "      <td>273.0</td>\n",
       "      <td>273.0</td>\n",
       "      <td>728.0</td>\n",
       "      <td>736.0</td>\n",
       "      <td>729.0</td>\n",
       "      <td>736.0</td>\n",
       "      <td>411.0</td>\n",
       "      <td>450.0</td>\n",
       "      <td>356.0</td>\n",
       "      <td>346.5</td>\n",
       "      <td>367.5</td>\n",
       "    </tr>\n",
       "    <tr>\n",
       "      <th>...</th>\n",
       "      <td>...</td>\n",
       "      <td>...</td>\n",
       "      <td>...</td>\n",
       "      <td>...</td>\n",
       "      <td>...</td>\n",
       "      <td>...</td>\n",
       "      <td>...</td>\n",
       "      <td>...</td>\n",
       "      <td>...</td>\n",
       "      <td>...</td>\n",
       "      <td>...</td>\n",
       "      <td>...</td>\n",
       "    </tr>\n",
       "    <tr>\n",
       "      <th>995</th>\n",
       "      <td>502.0</td>\n",
       "      <td>505.0</td>\n",
       "      <td>502.0</td>\n",
       "      <td>496.0</td>\n",
       "      <td>463.0</td>\n",
       "      <td>499.0</td>\n",
       "      <td>463.0</td>\n",
       "      <td>594.0</td>\n",
       "      <td>739.0</td>\n",
       "      <td>574.0</td>\n",
       "      <td>547.5</td>\n",
       "      <td>620.0</td>\n",
       "    </tr>\n",
       "    <tr>\n",
       "      <th>996</th>\n",
       "      <td>131.0</td>\n",
       "      <td>131.0</td>\n",
       "      <td>131.0</td>\n",
       "      <td>872.0</td>\n",
       "      <td>872.0</td>\n",
       "      <td>870.0</td>\n",
       "      <td>872.0</td>\n",
       "      <td>194.0</td>\n",
       "      <td>236.0</td>\n",
       "      <td>159.0</td>\n",
       "      <td>151.0</td>\n",
       "      <td>167.0</td>\n",
       "    </tr>\n",
       "    <tr>\n",
       "      <th>997</th>\n",
       "      <td>297.0</td>\n",
       "      <td>297.0</td>\n",
       "      <td>297.0</td>\n",
       "      <td>700.0</td>\n",
       "      <td>690.0</td>\n",
       "      <td>704.0</td>\n",
       "      <td>690.0</td>\n",
       "      <td>330.0</td>\n",
       "      <td>351.0</td>\n",
       "      <td>326.0</td>\n",
       "      <td>315.0</td>\n",
       "      <td>329.0</td>\n",
       "    </tr>\n",
       "    <tr>\n",
       "      <th>998</th>\n",
       "      <td>365.0</td>\n",
       "      <td>365.0</td>\n",
       "      <td>365.0</td>\n",
       "      <td>633.0</td>\n",
       "      <td>619.0</td>\n",
       "      <td>636.0</td>\n",
       "      <td>619.0</td>\n",
       "      <td>200.0</td>\n",
       "      <td>183.0</td>\n",
       "      <td>285.0</td>\n",
       "      <td>286.5</td>\n",
       "      <td>280.0</td>\n",
       "    </tr>\n",
       "    <tr>\n",
       "      <th>999</th>\n",
       "      <td>608.0</td>\n",
       "      <td>593.0</td>\n",
       "      <td>608.0</td>\n",
       "      <td>410.0</td>\n",
       "      <td>480.0</td>\n",
       "      <td>393.0</td>\n",
       "      <td>480.0</td>\n",
       "      <td>638.0</td>\n",
       "      <td>667.0</td>\n",
       "      <td>605.0</td>\n",
       "      <td>621.0</td>\n",
       "      <td>611.0</td>\n",
       "    </tr>\n",
       "  </tbody>\n",
       "</table>\n",
       "<p>1000 rows × 12 columns</p>\n",
       "</div>"
      ],
      "text/plain": [
       "     xig_approx_log_det  xig_approx_trace  xig_proxy  xpig_proxy_log_det  \\\n",
       "0                 408.0             408.0      408.0               589.0   \n",
       "1                 376.0             376.0      376.0               623.0   \n",
       "2                 849.0             907.0      849.0               198.0   \n",
       "3                 372.0             372.0      372.0               639.0   \n",
       "4                 273.0             273.0      273.0               728.0   \n",
       "..                  ...               ...        ...                 ...   \n",
       "995               502.0             505.0      502.0               496.0   \n",
       "996               131.0             131.0      131.0               872.0   \n",
       "997               297.0             297.0      297.0               700.0   \n",
       "998               365.0             365.0      365.0               633.0   \n",
       "999               608.0             593.0      608.0               410.0   \n",
       "\n",
       "     xpig_proxy_trace  jxpig_proxy_log_det  jxpig_proxy_trace   bald   epig  \\\n",
       "0               569.0                593.0              569.0  304.0  335.0   \n",
       "1               610.0                625.0              610.0  349.0  381.0   \n",
       "2               230.0                152.0              230.0  868.0  871.0   \n",
       "3               670.0                629.0              670.0  507.0  504.0   \n",
       "4               736.0                729.0              736.0  411.0  450.0   \n",
       "..                ...                  ...                ...    ...    ...   \n",
       "995             463.0                499.0              463.0  594.0  739.0   \n",
       "996             872.0                870.0              872.0  194.0  236.0   \n",
       "997             690.0                704.0              690.0  330.0  351.0   \n",
       "998             619.0                636.0              619.0  200.0  183.0   \n",
       "999             480.0                393.0              480.0  638.0  667.0   \n",
       "\n",
       "     average_normalized_score  average_ig_score  average_pig_score  \n",
       "0                       370.0             364.0              377.0  \n",
       "1                       378.0             370.0              385.5  \n",
       "2                       862.0             875.0              851.0  \n",
       "3                       438.0             445.0              431.0  \n",
       "4                       356.0             346.5              367.5  \n",
       "..                        ...               ...                ...  \n",
       "995                     574.0             547.5              620.0  \n",
       "996                     159.0             151.0              167.0  \n",
       "997                     326.0             315.0              329.0  \n",
       "998                     285.0             286.5              280.0  \n",
       "999                     605.0             621.0              611.0  \n",
       "\n",
       "[1000 rows x 12 columns]"
      ]
     },
     "execution_count": 125,
     "metadata": {},
     "output_type": "execute_result"
    }
   ],
   "source": [
    "normalized_df = df_quantities.rank()\n",
    "df_quantities[\"average_normalized_score\"] = (normalized_df[\"bald\"] + normalized_df[\"epig\"]) + (normalized_df[\"xig_approx_log_det\"]+normalized_df[\"xig_approx_trace\"]+normalized_df[\"xig_proxy\"])/3 - (normalized_df[\"xpig_proxy_log_det\"]+normalized_df[\"xpig_proxy_trace\"]+normalized_df[\"jxpig_proxy_log_det\"]+normalized_df[\"jxpig_proxy_trace\"])/4\n",
    "df_quantities[\"average_ig_score\"] = normalized_df[\"bald\"] + (normalized_df[\"xig_approx_log_det\"]+normalized_df[\"xig_approx_trace\"])/2\n",
    "df_quantities[\"average_pig_score\"] = normalized_df[\"epig\"] - (normalized_df[\"xpig_proxy_log_det\"]+normalized_df[\"xpig_proxy_trace\"]+normalized_df[\"jxpig_proxy_log_det\"])/3\n",
    "normalized_df"
   ]
  },
  {
   "cell_type": "code",
   "execution_count": 126,
   "id": "spanish-probability",
   "metadata": {},
   "outputs": [],
   "source": [
    "df_quantities.to_pickle(\"computed_quantities_mnist_80.pickle\")"
   ]
  },
  {
   "cell_type": "code",
   "execution_count": 103,
   "id": "other-buyer",
   "metadata": {},
   "outputs": [],
   "source": [
    "df_quantities_sorted = df_quantities.sort_values(by=[\"bald\"], ascending=False)\n",
    "df_quantities_sorted = df_quantities_sorted.reset_index(drop=True)\n",
    "df_quantities_sorted = df_quantities_sorted.reset_index()\n",
    "df_quantities_sorted = df_quantities_sorted.rename(columns=dict(index=\"bald_index\"))\n",
    "\n",
    "df_quantities_sorted = df_quantities_sorted.sort_values(by=[\"epig\"], ascending=False)\n",
    "df_quantities_sorted = df_quantities_sorted.reset_index(drop=True)\n",
    "df_quantities_sorted = df_quantities_sorted.reset_index()\n",
    "df_quantities_sorted = df_quantities_sorted.rename(columns=dict(index=\"epig_index\"))\n",
    "\n",
    "df_quantities_sorted = df_quantities_sorted.sort_values(by=[\"average_normalized_score\"], ascending=False)\n",
    "df_quantities_sorted = df_quantities_sorted.reset_index(drop=True)\n",
    "df_quantities_sorted = df_quantities_sorted.reset_index()\n",
    "df_quantities_sorted = df_quantities_sorted.rename(columns=dict(index=\"avg_index\"))\n",
    "\n",
    "df_quantities_sorted = df_quantities_sorted.sort_values(by=[\"average_ig_score\"], ascending=False)\n",
    "df_quantities_sorted = df_quantities_sorted.reset_index(drop=True)\n",
    "df_quantities_sorted = df_quantities_sorted.reset_index()\n",
    "df_quantities_sorted = df_quantities_sorted.rename(columns=dict(index=\"avg_ig_index\"))\n",
    "\n",
    "df_quantities_sorted = df_quantities_sorted.sort_values(by=[\"average_pig_score\"], ascending=False)\n",
    "df_quantities_sorted = df_quantities_sorted.reset_index(drop=True)\n",
    "df_quantities_sorted = df_quantities_sorted.reset_index()\n",
    "df_quantities_sorted = df_quantities_sorted.rename(columns=dict(index=\"avg_pig_index\"))"
   ]
  },
  {
   "cell_type": "code",
   "execution_count": 104,
   "id": "acquired-medicaid",
   "metadata": {},
   "outputs": [
    {
     "data": {
      "text/html": [
       "<div>\n",
       "<style scoped>\n",
       "    .dataframe tbody tr th:only-of-type {\n",
       "        vertical-align: middle;\n",
       "    }\n",
       "\n",
       "    .dataframe tbody tr th {\n",
       "        vertical-align: top;\n",
       "    }\n",
       "\n",
       "    .dataframe thead th {\n",
       "        text-align: right;\n",
       "    }\n",
       "</style>\n",
       "<table border=\"1\" class=\"dataframe\">\n",
       "  <thead>\n",
       "    <tr style=\"text-align: right;\">\n",
       "      <th></th>\n",
       "      <th>bald_index</th>\n",
       "      <th>epig_index</th>\n",
       "      <th>avg_index</th>\n",
       "      <th>avg_ig_index</th>\n",
       "      <th>avg_pig_index</th>\n",
       "      <th>variable</th>\n",
       "      <th>value</th>\n",
       "    </tr>\n",
       "  </thead>\n",
       "  <tbody>\n",
       "    <tr>\n",
       "      <th>0</th>\n",
       "      <td>4</td>\n",
       "      <td>5</td>\n",
       "      <td>3</td>\n",
       "      <td>27</td>\n",
       "      <td>0</td>\n",
       "      <td>xig_approx_log_det</td>\n",
       "      <td>13.400811</td>\n",
       "    </tr>\n",
       "    <tr>\n",
       "      <th>1</th>\n",
       "      <td>9</td>\n",
       "      <td>8</td>\n",
       "      <td>0</td>\n",
       "      <td>7</td>\n",
       "      <td>1</td>\n",
       "      <td>xig_approx_log_det</td>\n",
       "      <td>14.970577</td>\n",
       "    </tr>\n",
       "    <tr>\n",
       "      <th>2</th>\n",
       "      <td>2</td>\n",
       "      <td>6</td>\n",
       "      <td>1</td>\n",
       "      <td>6</td>\n",
       "      <td>2</td>\n",
       "      <td>xig_approx_log_det</td>\n",
       "      <td>12.466885</td>\n",
       "    </tr>\n",
       "    <tr>\n",
       "      <th>3</th>\n",
       "      <td>17</td>\n",
       "      <td>16</td>\n",
       "      <td>6</td>\n",
       "      <td>16</td>\n",
       "      <td>3</td>\n",
       "      <td>xig_approx_log_det</td>\n",
       "      <td>12.727153</td>\n",
       "    </tr>\n",
       "    <tr>\n",
       "      <th>4</th>\n",
       "      <td>1</td>\n",
       "      <td>0</td>\n",
       "      <td>8</td>\n",
       "      <td>28</td>\n",
       "      <td>4</td>\n",
       "      <td>xig_approx_log_det</td>\n",
       "      <td>10.569885</td>\n",
       "    </tr>\n",
       "    <tr>\n",
       "      <th>...</th>\n",
       "      <td>...</td>\n",
       "      <td>...</td>\n",
       "      <td>...</td>\n",
       "      <td>...</td>\n",
       "      <td>...</td>\n",
       "      <td>...</td>\n",
       "      <td>...</td>\n",
       "    </tr>\n",
       "    <tr>\n",
       "      <th>11995</th>\n",
       "      <td>990</td>\n",
       "      <td>993</td>\n",
       "      <td>995</td>\n",
       "      <td>994</td>\n",
       "      <td>995</td>\n",
       "      <td>average_pig_score</td>\n",
       "      <td>-986.250000</td>\n",
       "    </tr>\n",
       "    <tr>\n",
       "      <th>11996</th>\n",
       "      <td>995</td>\n",
       "      <td>995</td>\n",
       "      <td>996</td>\n",
       "      <td>996</td>\n",
       "      <td>996</td>\n",
       "      <td>average_pig_score</td>\n",
       "      <td>-988.000000</td>\n",
       "    </tr>\n",
       "    <tr>\n",
       "      <th>11997</th>\n",
       "      <td>997</td>\n",
       "      <td>998</td>\n",
       "      <td>997</td>\n",
       "      <td>997</td>\n",
       "      <td>997</td>\n",
       "      <td>average_pig_score</td>\n",
       "      <td>-993.500000</td>\n",
       "    </tr>\n",
       "    <tr>\n",
       "      <th>11998</th>\n",
       "      <td>996</td>\n",
       "      <td>996</td>\n",
       "      <td>998</td>\n",
       "      <td>998</td>\n",
       "      <td>998</td>\n",
       "      <td>average_pig_score</td>\n",
       "      <td>-994.000000</td>\n",
       "    </tr>\n",
       "    <tr>\n",
       "      <th>11999</th>\n",
       "      <td>999</td>\n",
       "      <td>999</td>\n",
       "      <td>999</td>\n",
       "      <td>999</td>\n",
       "      <td>999</td>\n",
       "      <td>average_pig_score</td>\n",
       "      <td>-998.500000</td>\n",
       "    </tr>\n",
       "  </tbody>\n",
       "</table>\n",
       "<p>12000 rows × 7 columns</p>\n",
       "</div>"
      ],
      "text/plain": [
       "       bald_index  epig_index  avg_index  avg_ig_index  avg_pig_index  \\\n",
       "0               4           5          3            27              0   \n",
       "1               9           8          0             7              1   \n",
       "2               2           6          1             6              2   \n",
       "3              17          16          6            16              3   \n",
       "4               1           0          8            28              4   \n",
       "...           ...         ...        ...           ...            ...   \n",
       "11995         990         993        995           994            995   \n",
       "11996         995         995        996           996            996   \n",
       "11997         997         998        997           997            997   \n",
       "11998         996         996        998           998            998   \n",
       "11999         999         999        999           999            999   \n",
       "\n",
       "                 variable       value  \n",
       "0      xig_approx_log_det   13.400811  \n",
       "1      xig_approx_log_det   14.970577  \n",
       "2      xig_approx_log_det   12.466885  \n",
       "3      xig_approx_log_det   12.727153  \n",
       "4      xig_approx_log_det   10.569885  \n",
       "...                   ...         ...  \n",
       "11995   average_pig_score -986.250000  \n",
       "11996   average_pig_score -988.000000  \n",
       "11997   average_pig_score -993.500000  \n",
       "11998   average_pig_score -994.000000  \n",
       "11999   average_pig_score -998.500000  \n",
       "\n",
       "[12000 rows x 7 columns]"
      ]
     },
     "execution_count": 104,
     "metadata": {},
     "output_type": "execute_result"
    }
   ],
   "source": [
    "df_melted = df_quantities_sorted.melt(id_vars=[\"bald_index\", \"epig_index\", \"avg_index\", \"avg_ig_index\", \"avg_pig_index\"])\n",
    "df_melted"
   ]
  },
  {
   "cell_type": "code",
   "execution_count": 105,
   "id": "increased-sleeping",
   "metadata": {},
   "outputs": [
    {
     "data": {
      "text/plain": [
       "array(['xig_approx_log_det', 'xig_approx_trace', 'xig_proxy',\n",
       "       'xpig_proxy_log_det', 'xpig_proxy_trace', 'jxpig_proxy_log_det',\n",
       "       'jxpig_proxy_trace', 'bald', 'epig', 'average_normalized_score',\n",
       "       'average_ig_score', 'average_pig_score'], dtype=object)"
      ]
     },
     "execution_count": 105,
     "metadata": {},
     "output_type": "execute_result"
    }
   ],
   "source": [
    "df_melted.variable.unique()"
   ]
  },
  {
   "cell_type": "code",
   "execution_count": 106,
   "id": "caroline-exchange",
   "metadata": {},
   "outputs": [
    {
     "data": {
      "text/html": [
       "<div>\n",
       "<style scoped>\n",
       "    .dataframe tbody tr th:only-of-type {\n",
       "        vertical-align: middle;\n",
       "    }\n",
       "\n",
       "    .dataframe tbody tr th {\n",
       "        vertical-align: top;\n",
       "    }\n",
       "\n",
       "    .dataframe thead th {\n",
       "        text-align: right;\n",
       "    }\n",
       "</style>\n",
       "<table border=\"1\" class=\"dataframe\">\n",
       "  <thead>\n",
       "    <tr style=\"text-align: right;\">\n",
       "      <th></th>\n",
       "      <th>bald_index</th>\n",
       "      <th>epig_index</th>\n",
       "      <th>avg_index</th>\n",
       "      <th>avg_ig_index</th>\n",
       "      <th>avg_pig_index</th>\n",
       "      <th>variable</th>\n",
       "      <th>value</th>\n",
       "      <th>Acquisition Function</th>\n",
       "    </tr>\n",
       "  </thead>\n",
       "  <tbody>\n",
       "    <tr>\n",
       "      <th>0</th>\n",
       "      <td>4</td>\n",
       "      <td>5</td>\n",
       "      <td>3</td>\n",
       "      <td>27</td>\n",
       "      <td>0</td>\n",
       "      <td>xig_approx_log_det</td>\n",
       "      <td>13.400811</td>\n",
       "      <td>(E)IG (LogDet)</td>\n",
       "    </tr>\n",
       "    <tr>\n",
       "      <th>1</th>\n",
       "      <td>9</td>\n",
       "      <td>8</td>\n",
       "      <td>0</td>\n",
       "      <td>7</td>\n",
       "      <td>1</td>\n",
       "      <td>xig_approx_log_det</td>\n",
       "      <td>14.970577</td>\n",
       "      <td>(E)IG (LogDet)</td>\n",
       "    </tr>\n",
       "    <tr>\n",
       "      <th>2</th>\n",
       "      <td>2</td>\n",
       "      <td>6</td>\n",
       "      <td>1</td>\n",
       "      <td>6</td>\n",
       "      <td>2</td>\n",
       "      <td>xig_approx_log_det</td>\n",
       "      <td>12.466885</td>\n",
       "      <td>(E)IG (LogDet)</td>\n",
       "    </tr>\n",
       "    <tr>\n",
       "      <th>3</th>\n",
       "      <td>17</td>\n",
       "      <td>16</td>\n",
       "      <td>6</td>\n",
       "      <td>16</td>\n",
       "      <td>3</td>\n",
       "      <td>xig_approx_log_det</td>\n",
       "      <td>12.727153</td>\n",
       "      <td>(E)IG (LogDet)</td>\n",
       "    </tr>\n",
       "    <tr>\n",
       "      <th>4</th>\n",
       "      <td>1</td>\n",
       "      <td>0</td>\n",
       "      <td>8</td>\n",
       "      <td>28</td>\n",
       "      <td>4</td>\n",
       "      <td>xig_approx_log_det</td>\n",
       "      <td>10.569885</td>\n",
       "      <td>(E)IG (LogDet)</td>\n",
       "    </tr>\n",
       "    <tr>\n",
       "      <th>...</th>\n",
       "      <td>...</td>\n",
       "      <td>...</td>\n",
       "      <td>...</td>\n",
       "      <td>...</td>\n",
       "      <td>...</td>\n",
       "      <td>...</td>\n",
       "      <td>...</td>\n",
       "      <td>...</td>\n",
       "    </tr>\n",
       "    <tr>\n",
       "      <th>11995</th>\n",
       "      <td>990</td>\n",
       "      <td>993</td>\n",
       "      <td>995</td>\n",
       "      <td>994</td>\n",
       "      <td>995</td>\n",
       "      <td>average_pig_score</td>\n",
       "      <td>-986.250000</td>\n",
       "      <td>NaN</td>\n",
       "    </tr>\n",
       "    <tr>\n",
       "      <th>11996</th>\n",
       "      <td>995</td>\n",
       "      <td>995</td>\n",
       "      <td>996</td>\n",
       "      <td>996</td>\n",
       "      <td>996</td>\n",
       "      <td>average_pig_score</td>\n",
       "      <td>-988.000000</td>\n",
       "      <td>NaN</td>\n",
       "    </tr>\n",
       "    <tr>\n",
       "      <th>11997</th>\n",
       "      <td>997</td>\n",
       "      <td>998</td>\n",
       "      <td>997</td>\n",
       "      <td>997</td>\n",
       "      <td>997</td>\n",
       "      <td>average_pig_score</td>\n",
       "      <td>-993.500000</td>\n",
       "      <td>NaN</td>\n",
       "    </tr>\n",
       "    <tr>\n",
       "      <th>11998</th>\n",
       "      <td>996</td>\n",
       "      <td>996</td>\n",
       "      <td>998</td>\n",
       "      <td>998</td>\n",
       "      <td>998</td>\n",
       "      <td>average_pig_score</td>\n",
       "      <td>-994.000000</td>\n",
       "      <td>NaN</td>\n",
       "    </tr>\n",
       "    <tr>\n",
       "      <th>11999</th>\n",
       "      <td>999</td>\n",
       "      <td>999</td>\n",
       "      <td>999</td>\n",
       "      <td>999</td>\n",
       "      <td>999</td>\n",
       "      <td>average_pig_score</td>\n",
       "      <td>-998.500000</td>\n",
       "      <td>NaN</td>\n",
       "    </tr>\n",
       "  </tbody>\n",
       "</table>\n",
       "<p>12000 rows × 8 columns</p>\n",
       "</div>"
      ],
      "text/plain": [
       "       bald_index  epig_index  avg_index  avg_ig_index  avg_pig_index  \\\n",
       "0               4           5          3            27              0   \n",
       "1               9           8          0             7              1   \n",
       "2               2           6          1             6              2   \n",
       "3              17          16          6            16              3   \n",
       "4               1           0          8            28              4   \n",
       "...           ...         ...        ...           ...            ...   \n",
       "11995         990         993        995           994            995   \n",
       "11996         995         995        996           996            996   \n",
       "11997         997         998        997           997            997   \n",
       "11998         996         996        998           998            998   \n",
       "11999         999         999        999           999            999   \n",
       "\n",
       "                 variable       value Acquisition Function  \n",
       "0      xig_approx_log_det   13.400811       (E)IG (LogDet)  \n",
       "1      xig_approx_log_det   14.970577       (E)IG (LogDet)  \n",
       "2      xig_approx_log_det   12.466885       (E)IG (LogDet)  \n",
       "3      xig_approx_log_det   12.727153       (E)IG (LogDet)  \n",
       "4      xig_approx_log_det   10.569885       (E)IG (LogDet)  \n",
       "...                   ...         ...                  ...  \n",
       "11995   average_pig_score -986.250000                  NaN  \n",
       "11996   average_pig_score -988.000000                  NaN  \n",
       "11997   average_pig_score -993.500000                  NaN  \n",
       "11998   average_pig_score -994.000000                  NaN  \n",
       "11999   average_pig_score -998.500000                  NaN  \n",
       "\n",
       "[12000 rows x 8 columns]"
      ]
     },
     "execution_count": 106,
     "metadata": {},
     "output_type": "execute_result"
    }
   ],
   "source": [
    "readable_name_map = {'xig_approx_log_det': \"(E)IG (LogDet)\", 'xig_approx_trace': \"(E)IG (Trace)\", 'xig_proxy': \"(E)IG (Proxy Log Det)\",\n",
    "       'xpig_proxy_log_det': \"(E)PIG (LogDet)\", 'xpig_proxy_trace': \"(E)PIG (Trace)\", 'jxpig_proxy_log_det': \"J(E)PIG (LogDet)\",\n",
    "       'jxpig_proxy_trace': \"J(E)PIG (Trace)\", 'bald': \"BALD (Prediction Space)\", 'epig': \"EPIG (Prediction Space)\"}\n",
    "\n",
    "df_melted[\"Acquisition Function\"] = df_melted[\"variable\"].map(readable_name_map)\n",
    "df_melted"
   ]
  },
  {
   "cell_type": "code",
   "execution_count": 107,
   "id": "included-check",
   "metadata": {},
   "outputs": [
    {
     "data": {
      "image/png": "[encoded data removed]",
      "text/plain": [
       "<Figure size 517x360 with 1 Axes>"
      ]
     },
     "metadata": {
      "needs_background": "light"
     },
     "output_type": "display_data"
    }
   ],
   "source": [
    "sub_df = df_melted[df_melted.variable.isin([\"xig_approx_log_det\", \"xig_approx_trace\", \"bald\"])]\n",
    "sub_df = sub_df.copy()\n",
    "xlabel = \"Pool Samples (descending by BALD score)\"\n",
    "sub_df[xlabel] = sub_df[\"avg_ig_index\"]\n",
    "g=sns.relplot(data=sub_df, x=xlabel, y=\"value\", hue=\"Acquisition Function\", alpha=0.5)\n",
    "g.ax.set_yscale(\"log\")"
   ]
  },
  {
   "cell_type": "code",
   "execution_count": 108,
   "id": "silent-priest",
   "metadata": {},
   "outputs": [
    {
     "data": {
      "text/plain": [
       "<seaborn.axisgrid.FacetGrid at 0x7f4913835310>"
      ]
     },
     "execution_count": 108,
     "metadata": {},
     "output_type": "execute_result"
    },
    {
     "data": {
      "image/png": "[encoded data removed]",
      "text/plain": [
       "<Figure size 1080x360 with 3 Axes>"
      ]
     },
     "metadata": {
      "needs_background": "light"
     },
     "output_type": "display_data"
    }
   ],
   "source": [
    "sub_df = df_melted[df_melted.variable.isin([\"xpig_proxy_log_det\", \"xpig_proxy_trace\", \"epig\"])]\n",
    "sub_df = sub_df.copy()\n",
    "xlabel = \"Pool Samples (descending by EPIG score)\"\n",
    "sub_df[xlabel] = sub_df[\"avg_pig_index\"]\n",
    "sns.relplot(data=sub_df, x=xlabel, y=\"value\", col=\"Acquisition Function\", alpha=0.5, facet_kws=dict(sharey=False))\n",
    "#g.ax.set_yscale(\"log\")"
   ]
  },
  {
   "cell_type": "code",
   "execution_count": 110,
   "id": "annoying-domain",
   "metadata": {},
   "outputs": [
    {
     "name": "stdout",
     "output_type": "stream",
     "text": [
      "502\n",
      "500\n",
      "502\n",
      "511\n",
      "500\n",
      "511\n",
      "528\n",
      "550\n",
      "517\n",
      "513\n",
      "524\n",
      "502\n",
      "502\n",
      "511\n",
      "502\n",
      "511\n",
      "530\n",
      "552\n",
      "519\n",
      "515\n",
      "526\n",
      "502\n",
      "511\n",
      "500\n",
      "511\n",
      "528\n",
      "550\n",
      "517\n",
      "513\n",
      "524\n",
      "509\n",
      "502\n",
      "509\n",
      "528\n",
      "550\n",
      "517\n",
      "514\n",
      "524\n",
      "511\n",
      "500\n",
      "531\n",
      "550\n",
      "518\n",
      "517\n",
      "525\n",
      "511\n",
      "528\n",
      "550\n",
      "517\n",
      "513\n",
      "524\n",
      "531\n",
      "550\n",
      "518\n",
      "517\n",
      "525\n",
      "529\n",
      "514\n",
      "514\n",
      "515\n",
      "534\n",
      "539\n",
      "526\n",
      "505\n",
      "508\n",
      "513\n"
     ]
    },
    {
     "data": {
      "text/html": [
       "<div>\n",
       "<style scoped>\n",
       "    .dataframe tbody tr th:only-of-type {\n",
       "        vertical-align: middle;\n",
       "    }\n",
       "\n",
       "    .dataframe tbody tr th {\n",
       "        vertical-align: top;\n",
       "    }\n",
       "\n",
       "    .dataframe thead th {\n",
       "        text-align: right;\n",
       "    }\n",
       "</style>\n",
       "<table border=\"1\" class=\"dataframe\">\n",
       "  <thead>\n",
       "    <tr style=\"text-align: right;\">\n",
       "      <th></th>\n",
       "      <th>xig_approx_log_det</th>\n",
       "      <th>xig_approx_trace</th>\n",
       "      <th>xig_proxy</th>\n",
       "      <th>xpig_proxy_log_det</th>\n",
       "      <th>xpig_proxy_trace</th>\n",
       "      <th>jxpig_proxy_log_det</th>\n",
       "      <th>jxpig_proxy_trace</th>\n",
       "      <th>bald</th>\n",
       "      <th>epig</th>\n",
       "      <th>average_normalized_score</th>\n",
       "      <th>average_ig_score</th>\n",
       "      <th>average_pig_score</th>\n",
       "    </tr>\n",
       "  </thead>\n",
       "  <tbody>\n",
       "    <tr>\n",
       "      <th>xig_approx_log_det</th>\n",
       "      <td>1.000000</td>\n",
       "      <td>0.999978</td>\n",
       "      <td>1.000000</td>\n",
       "      <td>0.999818</td>\n",
       "      <td>0.995135</td>\n",
       "      <td>0.999992</td>\n",
       "      <td>0.995135</td>\n",
       "      <td>0.799549</td>\n",
       "      <td>0.746190</td>\n",
       "      <td>0.933326</td>\n",
       "      <td>0.943701</td>\n",
       "      <td>0.920373</td>\n",
       "    </tr>\n",
       "    <tr>\n",
       "      <th>xig_approx_trace</th>\n",
       "      <td>0.999978</td>\n",
       "      <td>1.000000</td>\n",
       "      <td>0.999978</td>\n",
       "      <td>0.999823</td>\n",
       "      <td>0.995141</td>\n",
       "      <td>0.999971</td>\n",
       "      <td>0.995141</td>\n",
       "      <td>0.801042</td>\n",
       "      <td>0.747559</td>\n",
       "      <td>0.933736</td>\n",
       "      <td>0.944074</td>\n",
       "      <td>0.920832</td>\n",
       "    </tr>\n",
       "    <tr>\n",
       "      <th>xig_proxy</th>\n",
       "      <td>1.000000</td>\n",
       "      <td>0.999978</td>\n",
       "      <td>1.000000</td>\n",
       "      <td>0.999818</td>\n",
       "      <td>0.995135</td>\n",
       "      <td>0.999992</td>\n",
       "      <td>0.995135</td>\n",
       "      <td>0.799549</td>\n",
       "      <td>0.746190</td>\n",
       "      <td>0.933326</td>\n",
       "      <td>0.943701</td>\n",
       "      <td>0.920373</td>\n",
       "    </tr>\n",
       "    <tr>\n",
       "      <th>xpig_proxy_log_det</th>\n",
       "      <td>0.999818</td>\n",
       "      <td>0.999823</td>\n",
       "      <td>0.999818</td>\n",
       "      <td>1.000000</td>\n",
       "      <td>0.996181</td>\n",
       "      <td>0.999809</td>\n",
       "      <td>0.996181</td>\n",
       "      <td>0.800099</td>\n",
       "      <td>0.747195</td>\n",
       "      <td>0.933984</td>\n",
       "      <td>0.944231</td>\n",
       "      <td>0.921439</td>\n",
       "    </tr>\n",
       "    <tr>\n",
       "      <th>xpig_proxy_trace</th>\n",
       "      <td>0.995135</td>\n",
       "      <td>0.995141</td>\n",
       "      <td>0.995135</td>\n",
       "      <td>0.996181</td>\n",
       "      <td>1.000000</td>\n",
       "      <td>0.995099</td>\n",
       "      <td>1.000000</td>\n",
       "      <td>0.800105</td>\n",
       "      <td>0.746708</td>\n",
       "      <td>0.932542</td>\n",
       "      <td>0.941346</td>\n",
       "      <td>0.921961</td>\n",
       "    </tr>\n",
       "    <tr>\n",
       "      <th>jxpig_proxy_log_det</th>\n",
       "      <td>0.999992</td>\n",
       "      <td>0.999971</td>\n",
       "      <td>0.999992</td>\n",
       "      <td>0.999809</td>\n",
       "      <td>0.995099</td>\n",
       "      <td>1.000000</td>\n",
       "      <td>0.995099</td>\n",
       "      <td>0.799681</td>\n",
       "      <td>0.746312</td>\n",
       "      <td>0.933398</td>\n",
       "      <td>0.943773</td>\n",
       "      <td>0.920443</td>\n",
       "    </tr>\n",
       "    <tr>\n",
       "      <th>jxpig_proxy_trace</th>\n",
       "      <td>0.995135</td>\n",
       "      <td>0.995141</td>\n",
       "      <td>0.995135</td>\n",
       "      <td>0.996181</td>\n",
       "      <td>1.000000</td>\n",
       "      <td>0.995099</td>\n",
       "      <td>1.000000</td>\n",
       "      <td>0.800105</td>\n",
       "      <td>0.746708</td>\n",
       "      <td>0.932542</td>\n",
       "      <td>0.941346</td>\n",
       "      <td>0.921961</td>\n",
       "    </tr>\n",
       "    <tr>\n",
       "      <th>bald</th>\n",
       "      <td>0.799549</td>\n",
       "      <td>0.801042</td>\n",
       "      <td>0.799549</td>\n",
       "      <td>0.800099</td>\n",
       "      <td>0.800105</td>\n",
       "      <td>0.799681</td>\n",
       "      <td>0.800105</td>\n",
       "      <td>1.000000</td>\n",
       "      <td>0.976324</td>\n",
       "      <td>0.951640</td>\n",
       "      <td>0.943911</td>\n",
       "      <td>0.955287</td>\n",
       "    </tr>\n",
       "    <tr>\n",
       "      <th>epig</th>\n",
       "      <td>0.746190</td>\n",
       "      <td>0.747559</td>\n",
       "      <td>0.746190</td>\n",
       "      <td>0.747195</td>\n",
       "      <td>0.746708</td>\n",
       "      <td>0.746312</td>\n",
       "      <td>0.746708</td>\n",
       "      <td>0.976324</td>\n",
       "      <td>1.000000</td>\n",
       "      <td>0.914899</td>\n",
       "      <td>0.898736</td>\n",
       "      <td>0.927844</td>\n",
       "    </tr>\n",
       "    <tr>\n",
       "      <th>average_normalized_score</th>\n",
       "      <td>0.933326</td>\n",
       "      <td>0.933736</td>\n",
       "      <td>0.933326</td>\n",
       "      <td>0.933984</td>\n",
       "      <td>0.932542</td>\n",
       "      <td>0.933398</td>\n",
       "      <td>0.932542</td>\n",
       "      <td>0.951640</td>\n",
       "      <td>0.914899</td>\n",
       "      <td>1.000000</td>\n",
       "      <td>0.997769</td>\n",
       "      <td>0.997547</td>\n",
       "    </tr>\n",
       "    <tr>\n",
       "      <th>average_ig_score</th>\n",
       "      <td>0.943701</td>\n",
       "      <td>0.944074</td>\n",
       "      <td>0.943701</td>\n",
       "      <td>0.944231</td>\n",
       "      <td>0.941346</td>\n",
       "      <td>0.943773</td>\n",
       "      <td>0.941346</td>\n",
       "      <td>0.943911</td>\n",
       "      <td>0.898736</td>\n",
       "      <td>0.997769</td>\n",
       "      <td>1.000000</td>\n",
       "      <td>0.991454</td>\n",
       "    </tr>\n",
       "    <tr>\n",
       "      <th>average_pig_score</th>\n",
       "      <td>0.920373</td>\n",
       "      <td>0.920832</td>\n",
       "      <td>0.920373</td>\n",
       "      <td>0.921439</td>\n",
       "      <td>0.921961</td>\n",
       "      <td>0.920443</td>\n",
       "      <td>0.921961</td>\n",
       "      <td>0.955287</td>\n",
       "      <td>0.927844</td>\n",
       "      <td>0.997547</td>\n",
       "      <td>0.991454</td>\n",
       "      <td>1.000000</td>\n",
       "    </tr>\n",
       "  </tbody>\n",
       "</table>\n",
       "</div>"
      ],
      "text/plain": [
       "                          xig_approx_log_det  xig_approx_trace  xig_proxy  \\\n",
       "xig_approx_log_det                  1.000000          0.999978   1.000000   \n",
       "xig_approx_trace                    0.999978          1.000000   0.999978   \n",
       "xig_proxy                           1.000000          0.999978   1.000000   \n",
       "xpig_proxy_log_det                  0.999818          0.999823   0.999818   \n",
       "xpig_proxy_trace                    0.995135          0.995141   0.995135   \n",
       "jxpig_proxy_log_det                 0.999992          0.999971   0.999992   \n",
       "jxpig_proxy_trace                   0.995135          0.995141   0.995135   \n",
       "bald                                0.799549          0.801042   0.799549   \n",
       "epig                                0.746190          0.747559   0.746190   \n",
       "average_normalized_score            0.933326          0.933736   0.933326   \n",
       "average_ig_score                    0.943701          0.944074   0.943701   \n",
       "average_pig_score                   0.920373          0.920832   0.920373   \n",
       "\n",
       "                          xpig_proxy_log_det  xpig_proxy_trace  \\\n",
       "xig_approx_log_det                  0.999818          0.995135   \n",
       "xig_approx_trace                    0.999823          0.995141   \n",
       "xig_proxy                           0.999818          0.995135   \n",
       "xpig_proxy_log_det                  1.000000          0.996181   \n",
       "xpig_proxy_trace                    0.996181          1.000000   \n",
       "jxpig_proxy_log_det                 0.999809          0.995099   \n",
       "jxpig_proxy_trace                   0.996181          1.000000   \n",
       "bald                                0.800099          0.800105   \n",
       "epig                                0.747195          0.746708   \n",
       "average_normalized_score            0.933984          0.932542   \n",
       "average_ig_score                    0.944231          0.941346   \n",
       "average_pig_score                   0.921439          0.921961   \n",
       "\n",
       "                          jxpig_proxy_log_det  jxpig_proxy_trace      bald  \\\n",
       "xig_approx_log_det                   0.999992           0.995135  0.799549   \n",
       "xig_approx_trace                     0.999971           0.995141  0.801042   \n",
       "xig_proxy                            0.999992           0.995135  0.799549   \n",
       "xpig_proxy_log_det                   0.999809           0.996181  0.800099   \n",
       "xpig_proxy_trace                     0.995099           1.000000  0.800105   \n",
       "jxpig_proxy_log_det                  1.000000           0.995099  0.799681   \n",
       "jxpig_proxy_trace                    0.995099           1.000000  0.800105   \n",
       "bald                                 0.799681           0.800105  1.000000   \n",
       "epig                                 0.746312           0.746708  0.976324   \n",
       "average_normalized_score             0.933398           0.932542  0.951640   \n",
       "average_ig_score                     0.943773           0.941346  0.943911   \n",
       "average_pig_score                    0.920443           0.921961  0.955287   \n",
       "\n",
       "                              epig  average_normalized_score  \\\n",
       "xig_approx_log_det        0.746190                  0.933326   \n",
       "xig_approx_trace          0.747559                  0.933736   \n",
       "xig_proxy                 0.746190                  0.933326   \n",
       "xpig_proxy_log_det        0.747195                  0.933984   \n",
       "xpig_proxy_trace          0.746708                  0.932542   \n",
       "jxpig_proxy_log_det       0.746312                  0.933398   \n",
       "jxpig_proxy_trace         0.746708                  0.932542   \n",
       "bald                      0.976324                  0.951640   \n",
       "epig                      1.000000                  0.914899   \n",
       "average_normalized_score  0.914899                  1.000000   \n",
       "average_ig_score          0.898736                  0.997769   \n",
       "average_pig_score         0.927844                  0.997547   \n",
       "\n",
       "                          average_ig_score  average_pig_score  \n",
       "xig_approx_log_det                0.943701           0.920373  \n",
       "xig_approx_trace                  0.944074           0.920832  \n",
       "xig_proxy                         0.943701           0.920373  \n",
       "xpig_proxy_log_det                0.944231           0.921439  \n",
       "xpig_proxy_trace                  0.941346           0.921961  \n",
       "jxpig_proxy_log_det               0.943773           0.920443  \n",
       "jxpig_proxy_trace                 0.941346           0.921961  \n",
       "bald                              0.943911           0.955287  \n",
       "epig                              0.898736           0.927844  \n",
       "average_normalized_score          0.997769           0.997547  \n",
       "average_ig_score                  1.000000           0.991454  \n",
       "average_pig_score                 0.991454           1.000000  "
      ]
     },
     "execution_count": 110,
     "metadata": {},
     "output_type": "execute_result"
    }
   ],
   "source": [
    "def topk_spearman_rank(k):\n",
    "    def func(s1, s2):\n",
    "        df = pd.DataFrame.from_dict(dict(s1=s1,s2=s2))\n",
    "        df_rank=df.rank()\n",
    "        df_rank_topk = df_rank[(df_rank.s1<=k) | (df_rank.s2<=k)]\n",
    "        print(len(df_rank_topk))\n",
    "        corr=df_rank_topk.corr(method=\"spearman\")[\"s1\"][\"s2\"]\n",
    "        return corr\n",
    "    return func\n",
    "\n",
    "df = df_quantities.copy()\n",
    "df[\"xpig_proxy_log_det\"] *= -1\n",
    "df[\"xpig_proxy_trace\"] *= -1\n",
    "df[\"jxpig_proxy_log_det\"] *= -1\n",
    "df[\"jxpig_proxy_trace\"] *= -1\n",
    "df.corr(method=topk_spearman_rank(500))"
   ]
  },
  {
   "cell_type": "code",
   "execution_count": 316,
   "id": "aware-companion",
   "metadata": {},
   "outputs": [
    {
     "data": {
      "text/html": [
       "<div>\n",
       "<style scoped>\n",
       "    .dataframe tbody tr th:only-of-type {\n",
       "        vertical-align: middle;\n",
       "    }\n",
       "\n",
       "    .dataframe tbody tr th {\n",
       "        vertical-align: top;\n",
       "    }\n",
       "\n",
       "    .dataframe thead th {\n",
       "        text-align: right;\n",
       "    }\n",
       "</style>\n",
       "<table border=\"1\" class=\"dataframe\">\n",
       "  <thead>\n",
       "    <tr style=\"text-align: right;\">\n",
       "      <th></th>\n",
       "      <th>xig_approx_log_det</th>\n",
       "      <th>xig_approx_trace</th>\n",
       "      <th>xig_proxy</th>\n",
       "      <th>xpig_proxy_log_det</th>\n",
       "      <th>xpig_proxy_trace</th>\n",
       "      <th>jxpig_proxy_log_det</th>\n",
       "      <th>jxpig_proxy_trace</th>\n",
       "      <th>bald</th>\n",
       "      <th>epig</th>\n",
       "      <th>average_normalized_score</th>\n",
       "      <th>average_ig_score</th>\n",
       "      <th>average_pig_score</th>\n",
       "    </tr>\n",
       "  </thead>\n",
       "  <tbody>\n",
       "    <tr>\n",
       "      <th>xig_approx_log_det</th>\n",
       "      <td>1.000000</td>\n",
       "      <td>0.987856</td>\n",
       "      <td>1.000000</td>\n",
       "      <td>-0.991724</td>\n",
       "      <td>-0.971679</td>\n",
       "      <td>-0.999982</td>\n",
       "      <td>-0.971679</td>\n",
       "      <td>0.955120</td>\n",
       "      <td>0.917530</td>\n",
       "      <td>0.967001</td>\n",
       "      <td>0.967066</td>\n",
       "      <td>0.958450</td>\n",
       "    </tr>\n",
       "    <tr>\n",
       "      <th>xig_approx_trace</th>\n",
       "      <td>0.987856</td>\n",
       "      <td>1.000000</td>\n",
       "      <td>0.987856</td>\n",
       "      <td>-0.969408</td>\n",
       "      <td>-0.949578</td>\n",
       "      <td>-0.987408</td>\n",
       "      <td>-0.949578</td>\n",
       "      <td>0.939559</td>\n",
       "      <td>0.896523</td>\n",
       "      <td>0.953125</td>\n",
       "      <td>0.961830</td>\n",
       "      <td>0.937092</td>\n",
       "    </tr>\n",
       "    <tr>\n",
       "      <th>xig_proxy</th>\n",
       "      <td>1.000000</td>\n",
       "      <td>0.987856</td>\n",
       "      <td>1.000000</td>\n",
       "      <td>-0.991724</td>\n",
       "      <td>-0.971679</td>\n",
       "      <td>-0.999982</td>\n",
       "      <td>-0.971679</td>\n",
       "      <td>0.955120</td>\n",
       "      <td>0.917530</td>\n",
       "      <td>0.967001</td>\n",
       "      <td>0.967066</td>\n",
       "      <td>0.958450</td>\n",
       "    </tr>\n",
       "    <tr>\n",
       "      <th>xpig_proxy_log_det</th>\n",
       "      <td>-0.991724</td>\n",
       "      <td>-0.969408</td>\n",
       "      <td>-0.991724</td>\n",
       "      <td>1.000000</td>\n",
       "      <td>0.987134</td>\n",
       "      <td>0.992111</td>\n",
       "      <td>0.987134</td>\n",
       "      <td>-0.947928</td>\n",
       "      <td>-0.918178</td>\n",
       "      <td>-0.962686</td>\n",
       "      <td>-0.954845</td>\n",
       "      <td>-0.962823</td>\n",
       "    </tr>\n",
       "    <tr>\n",
       "      <th>xpig_proxy_trace</th>\n",
       "      <td>-0.971679</td>\n",
       "      <td>-0.949578</td>\n",
       "      <td>-0.971679</td>\n",
       "      <td>0.987134</td>\n",
       "      <td>1.000000</td>\n",
       "      <td>0.972109</td>\n",
       "      <td>1.000000</td>\n",
       "      <td>-0.927000</td>\n",
       "      <td>-0.903336</td>\n",
       "      <td>-0.947299</td>\n",
       "      <td>-0.933882</td>\n",
       "      <td>-0.954171</td>\n",
       "    </tr>\n",
       "    <tr>\n",
       "      <th>jxpig_proxy_log_det</th>\n",
       "      <td>-0.999982</td>\n",
       "      <td>-0.987408</td>\n",
       "      <td>-0.999982</td>\n",
       "      <td>0.992111</td>\n",
       "      <td>0.972109</td>\n",
       "      <td>1.000000</td>\n",
       "      <td>0.972109</td>\n",
       "      <td>-0.955134</td>\n",
       "      <td>-0.917681</td>\n",
       "      <td>-0.967025</td>\n",
       "      <td>-0.966870</td>\n",
       "      <td>-0.958700</td>\n",
       "    </tr>\n",
       "    <tr>\n",
       "      <th>jxpig_proxy_trace</th>\n",
       "      <td>-0.971679</td>\n",
       "      <td>-0.949578</td>\n",
       "      <td>-0.971679</td>\n",
       "      <td>0.987134</td>\n",
       "      <td>1.000000</td>\n",
       "      <td>0.972109</td>\n",
       "      <td>1.000000</td>\n",
       "      <td>-0.927000</td>\n",
       "      <td>-0.903336</td>\n",
       "      <td>-0.947299</td>\n",
       "      <td>-0.933882</td>\n",
       "      <td>-0.954171</td>\n",
       "    </tr>\n",
       "    <tr>\n",
       "      <th>bald</th>\n",
       "      <td>0.955120</td>\n",
       "      <td>0.939559</td>\n",
       "      <td>0.955120</td>\n",
       "      <td>-0.947928</td>\n",
       "      <td>-0.927000</td>\n",
       "      <td>-0.955134</td>\n",
       "      <td>-0.927000</td>\n",
       "      <td>1.000000</td>\n",
       "      <td>0.983865</td>\n",
       "      <td>0.994292</td>\n",
       "      <td>0.993951</td>\n",
       "      <td>0.988450</td>\n",
       "    </tr>\n",
       "    <tr>\n",
       "      <th>epig</th>\n",
       "      <td>0.917530</td>\n",
       "      <td>0.896523</td>\n",
       "      <td>0.917530</td>\n",
       "      <td>-0.918178</td>\n",
       "      <td>-0.903336</td>\n",
       "      <td>-0.917681</td>\n",
       "      <td>-0.903336</td>\n",
       "      <td>0.983865</td>\n",
       "      <td>1.000000</td>\n",
       "      <td>0.980322</td>\n",
       "      <td>0.970006</td>\n",
       "      <td>0.985192</td>\n",
       "    </tr>\n",
       "    <tr>\n",
       "      <th>average_normalized_score</th>\n",
       "      <td>0.967001</td>\n",
       "      <td>0.953125</td>\n",
       "      <td>0.967001</td>\n",
       "      <td>-0.962686</td>\n",
       "      <td>-0.947299</td>\n",
       "      <td>-0.967025</td>\n",
       "      <td>-0.947299</td>\n",
       "      <td>0.994292</td>\n",
       "      <td>0.980322</td>\n",
       "      <td>1.000000</td>\n",
       "      <td>0.995954</td>\n",
       "      <td>0.996152</td>\n",
       "    </tr>\n",
       "    <tr>\n",
       "      <th>average_ig_score</th>\n",
       "      <td>0.967066</td>\n",
       "      <td>0.961830</td>\n",
       "      <td>0.967066</td>\n",
       "      <td>-0.954845</td>\n",
       "      <td>-0.933882</td>\n",
       "      <td>-0.966870</td>\n",
       "      <td>-0.933882</td>\n",
       "      <td>0.993951</td>\n",
       "      <td>0.970006</td>\n",
       "      <td>0.995954</td>\n",
       "      <td>1.000000</td>\n",
       "      <td>0.985124</td>\n",
       "    </tr>\n",
       "    <tr>\n",
       "      <th>average_pig_score</th>\n",
       "      <td>0.958450</td>\n",
       "      <td>0.937092</td>\n",
       "      <td>0.958450</td>\n",
       "      <td>-0.962823</td>\n",
       "      <td>-0.954171</td>\n",
       "      <td>-0.958700</td>\n",
       "      <td>-0.954171</td>\n",
       "      <td>0.988450</td>\n",
       "      <td>0.985192</td>\n",
       "      <td>0.996152</td>\n",
       "      <td>0.985124</td>\n",
       "      <td>1.000000</td>\n",
       "    </tr>\n",
       "  </tbody>\n",
       "</table>\n",
       "</div>"
      ],
      "text/plain": [
       "                          xig_approx_log_det  xig_approx_trace  xig_proxy  \\\n",
       "xig_approx_log_det                  1.000000          0.987856   1.000000   \n",
       "xig_approx_trace                    0.987856          1.000000   0.987856   \n",
       "xig_proxy                           1.000000          0.987856   1.000000   \n",
       "xpig_proxy_log_det                 -0.991724         -0.969408  -0.991724   \n",
       "xpig_proxy_trace                   -0.971679         -0.949578  -0.971679   \n",
       "jxpig_proxy_log_det                -0.999982         -0.987408  -0.999982   \n",
       "jxpig_proxy_trace                  -0.971679         -0.949578  -0.971679   \n",
       "bald                                0.955120          0.939559   0.955120   \n",
       "epig                                0.917530          0.896523   0.917530   \n",
       "average_normalized_score            0.967001          0.953125   0.967001   \n",
       "average_ig_score                    0.967066          0.961830   0.967066   \n",
       "average_pig_score                   0.958450          0.937092   0.958450   \n",
       "\n",
       "                          xpig_proxy_log_det  xpig_proxy_trace  \\\n",
       "xig_approx_log_det                 -0.991724         -0.971679   \n",
       "xig_approx_trace                   -0.969408         -0.949578   \n",
       "xig_proxy                          -0.991724         -0.971679   \n",
       "xpig_proxy_log_det                  1.000000          0.987134   \n",
       "xpig_proxy_trace                    0.987134          1.000000   \n",
       "jxpig_proxy_log_det                 0.992111          0.972109   \n",
       "jxpig_proxy_trace                   0.987134          1.000000   \n",
       "bald                               -0.947928         -0.927000   \n",
       "epig                               -0.918178         -0.903336   \n",
       "average_normalized_score           -0.962686         -0.947299   \n",
       "average_ig_score                   -0.954845         -0.933882   \n",
       "average_pig_score                  -0.962823         -0.954171   \n",
       "\n",
       "                          jxpig_proxy_log_det  jxpig_proxy_trace      bald  \\\n",
       "xig_approx_log_det                  -0.999982          -0.971679  0.955120   \n",
       "xig_approx_trace                    -0.987408          -0.949578  0.939559   \n",
       "xig_proxy                           -0.999982          -0.971679  0.955120   \n",
       "xpig_proxy_log_det                   0.992111           0.987134 -0.947928   \n",
       "xpig_proxy_trace                     0.972109           1.000000 -0.927000   \n",
       "jxpig_proxy_log_det                  1.000000           0.972109 -0.955134   \n",
       "jxpig_proxy_trace                    0.972109           1.000000 -0.927000   \n",
       "bald                                -0.955134          -0.927000  1.000000   \n",
       "epig                                -0.917681          -0.903336  0.983865   \n",
       "average_normalized_score            -0.967025          -0.947299  0.994292   \n",
       "average_ig_score                    -0.966870          -0.933882  0.993951   \n",
       "average_pig_score                   -0.958700          -0.954171  0.988450   \n",
       "\n",
       "                              epig  average_normalized_score  \\\n",
       "xig_approx_log_det        0.917530                  0.967001   \n",
       "xig_approx_trace          0.896523                  0.953125   \n",
       "xig_proxy                 0.917530                  0.967001   \n",
       "xpig_proxy_log_det       -0.918178                 -0.962686   \n",
       "xpig_proxy_trace         -0.903336                 -0.947299   \n",
       "jxpig_proxy_log_det      -0.917681                 -0.967025   \n",
       "jxpig_proxy_trace        -0.903336                 -0.947299   \n",
       "bald                      0.983865                  0.994292   \n",
       "epig                      1.000000                  0.980322   \n",
       "average_normalized_score  0.980322                  1.000000   \n",
       "average_ig_score          0.970006                  0.995954   \n",
       "average_pig_score         0.985192                  0.996152   \n",
       "\n",
       "                          average_ig_score  average_pig_score  \n",
       "xig_approx_log_det                0.967066           0.958450  \n",
       "xig_approx_trace                  0.961830           0.937092  \n",
       "xig_proxy                         0.967066           0.958450  \n",
       "xpig_proxy_log_det               -0.954845          -0.962823  \n",
       "xpig_proxy_trace                 -0.933882          -0.954171  \n",
       "jxpig_proxy_log_det              -0.966870          -0.958700  \n",
       "jxpig_proxy_trace                -0.933882          -0.954171  \n",
       "bald                              0.993951           0.988450  \n",
       "epig                              0.970006           0.985192  \n",
       "average_normalized_score          0.995954           0.996152  \n",
       "average_ig_score                  1.000000           0.985124  \n",
       "average_pig_score                 0.985124           1.000000  "
      ]
     },
     "execution_count": 316,
     "metadata": {},
     "output_type": "execute_result"
    }
   ],
   "source": [
    "df_quantities.corr(method=\"spearman\")"
   ]
  },
  {
   "cell_type": "code",
   "execution_count": 165,
   "id": "lasting-custom",
   "metadata": {},
   "outputs": [],
   "source": [
    "import numpy as np\n",
    "from IPython.display import display, HTML "
   ]
  },
  {
   "cell_type": "code",
   "execution_count": 177,
   "id": "small-economy",
   "metadata": {},
   "outputs": [
    {
     "data": {
      "text/html": [
       "<table border=\"1\" class=\"dataframe\">\n",
       "  <thead>\n",
       "    <tr style=\"text-align: right;\">\n",
       "      <th></th>\n",
       "      <th>BALD (Prediction Space)</th>\n",
       "      <th>(E)IG (LogDet)</th>\n",
       "      <th>(E)IG (Trace)</th>\n",
       "    </tr>\n",
       "  </thead>\n",
       "  <tbody>\n",
       "    <tr>\n",
       "      <th>BALD (Prediction Space)</th>\n",
       "      <td>1.000000</td>\n",
       "      <td></td>\n",
       "      <td></td>\n",
       "    </tr>\n",
       "    <tr>\n",
       "      <th>(E)IG (LogDet)</th>\n",
       "      <td>0.955120</td>\n",
       "      <td>1.000000</td>\n",
       "      <td></td>\n",
       "    </tr>\n",
       "    <tr>\n",
       "      <th>(E)IG (Trace)</th>\n",
       "      <td>0.939559</td>\n",
       "      <td>0.987856</td>\n",
       "      <td>1.0</td>\n",
       "    </tr>\n",
       "  </tbody>\n",
       "</table>"
      ],
      "text/plain": [
       "<IPython.core.display.HTML object>"
      ]
     },
     "metadata": {},
     "output_type": "display_data"
    }
   ],
   "source": [
    "sub_df = df_quantities.copy()[[\"bald\", \"xig_approx_log_det\", \"xig_approx_trace\"]]\n",
    "sub_df = sub_df.rename(columns=readable_name_map)\n",
    "result = sub_df.corr(method=\"spearman\").where(np.tril(np.ones(3), k=0).astype(bool))\n",
    "display(HTML(result.to_html(na_rep=\"\")))"
   ]
  },
  {
   "cell_type": "code",
   "execution_count": 178,
   "id": "mediterranean-contents",
   "metadata": {},
   "outputs": [
    {
     "data": {
      "text/html": [
       "<table border=\"1\" class=\"dataframe\">\n",
       "  <thead>\n",
       "    <tr style=\"text-align: right;\">\n",
       "      <th></th>\n",
       "      <th>EPIG (Prediction Space)</th>\n",
       "      <th>(E)PIG (LogDet)</th>\n",
       "      <th>J(E)PIG (LogDet)</th>\n",
       "      <th>(E)PIG (Trace)</th>\n",
       "    </tr>\n",
       "  </thead>\n",
       "  <tbody>\n",
       "    <tr>\n",
       "      <th>EPIG (Prediction Space)</th>\n",
       "      <td>1.000000</td>\n",
       "      <td></td>\n",
       "      <td></td>\n",
       "      <td></td>\n",
       "    </tr>\n",
       "    <tr>\n",
       "      <th>(E)PIG (LogDet)</th>\n",
       "      <td>-0.918178</td>\n",
       "      <td>1.000000</td>\n",
       "      <td></td>\n",
       "      <td></td>\n",
       "    </tr>\n",
       "    <tr>\n",
       "      <th>J(E)PIG (LogDet)</th>\n",
       "      <td>-0.917681</td>\n",
       "      <td>0.992111</td>\n",
       "      <td>1.000000</td>\n",
       "      <td></td>\n",
       "    </tr>\n",
       "    <tr>\n",
       "      <th>(E)PIG (Trace)</th>\n",
       "      <td>-0.903336</td>\n",
       "      <td>0.987134</td>\n",
       "      <td>0.972109</td>\n",
       "      <td>1.0</td>\n",
       "    </tr>\n",
       "  </tbody>\n",
       "</table>"
      ],
      "text/plain": [
       "<IPython.core.display.HTML object>"
      ]
     },
     "metadata": {},
     "output_type": "display_data"
    }
   ],
   "source": [
    "sub_df = df_quantities.copy()[[\"epig\", \"xpig_proxy_log_det\", \"jxpig_proxy_log_det\", \"xpig_proxy_trace\"]]\n",
    "sub_df = sub_df.rename(columns=readable_name_map)\n",
    "result = sub_df.corr(method=\"spearman\").where(np.tril(np.ones(4), k=0).astype(bool))\n",
    "display(HTML(result.to_html(na_rep=\"\")))"
   ]
  },
  {
   "cell_type": "code",
   "execution_count": 152,
   "id": "optimum-segment",
   "metadata": {},
   "outputs": [
    {
     "data": {
      "text/html": [
       "<div>\n",
       "<style scoped>\n",
       "    .dataframe tbody tr th:only-of-type {\n",
       "        vertical-align: middle;\n",
       "    }\n",
       "\n",
       "    .dataframe tbody tr th {\n",
       "        vertical-align: top;\n",
       "    }\n",
       "\n",
       "    .dataframe thead th {\n",
       "        text-align: right;\n",
       "    }\n",
       "</style>\n",
       "<table border=\"1\" class=\"dataframe\">\n",
       "  <thead>\n",
       "    <tr style=\"text-align: right;\">\n",
       "      <th></th>\n",
       "      <th>(E)IG (LogDet)</th>\n",
       "      <th>(E)IG (Trace)</th>\n",
       "      <th>(E)IG (Proxy Log Det)</th>\n",
       "      <th>(E)PIG (LogDet)</th>\n",
       "      <th>(E)PIG (Trace)</th>\n",
       "      <th>J(E)PIG (LogDet)</th>\n",
       "      <th>J(E)PIG (Trace)</th>\n",
       "      <th>average_normalized_score</th>\n",
       "      <th>BALD (Prediction Space)</th>\n",
       "      <th>EPIG (Prediction Space)</th>\n",
       "    </tr>\n",
       "  </thead>\n",
       "  <tbody>\n",
       "    <tr>\n",
       "      <th>(E)IG (LogDet)</th>\n",
       "      <td>1.000000</td>\n",
       "      <td>0.987856</td>\n",
       "      <td>1.000000</td>\n",
       "      <td>-0.991724</td>\n",
       "      <td>-0.971679</td>\n",
       "      <td>-0.999982</td>\n",
       "      <td>-0.971679</td>\n",
       "      <td>0.997284</td>\n",
       "      <td>0.955120</td>\n",
       "      <td>0.917530</td>\n",
       "    </tr>\n",
       "    <tr>\n",
       "      <th>(E)IG (Trace)</th>\n",
       "      <td>0.987856</td>\n",
       "      <td>1.000000</td>\n",
       "      <td>0.987856</td>\n",
       "      <td>-0.969408</td>\n",
       "      <td>-0.949578</td>\n",
       "      <td>-0.987408</td>\n",
       "      <td>-0.949578</td>\n",
       "      <td>0.987997</td>\n",
       "      <td>0.939559</td>\n",
       "      <td>0.896523</td>\n",
       "    </tr>\n",
       "    <tr>\n",
       "      <th>(E)IG (Proxy Log Det)</th>\n",
       "      <td>1.000000</td>\n",
       "      <td>0.987856</td>\n",
       "      <td>1.000000</td>\n",
       "      <td>-0.991724</td>\n",
       "      <td>-0.971679</td>\n",
       "      <td>-0.999982</td>\n",
       "      <td>-0.971679</td>\n",
       "      <td>0.997284</td>\n",
       "      <td>0.955120</td>\n",
       "      <td>0.917530</td>\n",
       "    </tr>\n",
       "    <tr>\n",
       "      <th>(E)PIG (LogDet)</th>\n",
       "      <td>-0.991724</td>\n",
       "      <td>-0.969408</td>\n",
       "      <td>-0.991724</td>\n",
       "      <td>1.000000</td>\n",
       "      <td>0.987134</td>\n",
       "      <td>0.992111</td>\n",
       "      <td>0.987134</td>\n",
       "      <td>-0.992530</td>\n",
       "      <td>-0.947928</td>\n",
       "      <td>-0.918178</td>\n",
       "    </tr>\n",
       "    <tr>\n",
       "      <th>(E)PIG (Trace)</th>\n",
       "      <td>-0.971679</td>\n",
       "      <td>-0.949578</td>\n",
       "      <td>-0.971679</td>\n",
       "      <td>0.987134</td>\n",
       "      <td>1.000000</td>\n",
       "      <td>0.972109</td>\n",
       "      <td>1.000000</td>\n",
       "      <td>-0.980625</td>\n",
       "      <td>-0.927000</td>\n",
       "      <td>-0.903336</td>\n",
       "    </tr>\n",
       "    <tr>\n",
       "      <th>J(E)PIG (LogDet)</th>\n",
       "      <td>-0.999982</td>\n",
       "      <td>-0.987408</td>\n",
       "      <td>-0.999982</td>\n",
       "      <td>0.992111</td>\n",
       "      <td>0.972109</td>\n",
       "      <td>1.000000</td>\n",
       "      <td>0.972109</td>\n",
       "      <td>-0.997237</td>\n",
       "      <td>-0.955134</td>\n",
       "      <td>-0.917681</td>\n",
       "    </tr>\n",
       "    <tr>\n",
       "      <th>J(E)PIG (Trace)</th>\n",
       "      <td>-0.971679</td>\n",
       "      <td>-0.949578</td>\n",
       "      <td>-0.971679</td>\n",
       "      <td>0.987134</td>\n",
       "      <td>1.000000</td>\n",
       "      <td>0.972109</td>\n",
       "      <td>1.000000</td>\n",
       "      <td>-0.980625</td>\n",
       "      <td>-0.927000</td>\n",
       "      <td>-0.903336</td>\n",
       "    </tr>\n",
       "    <tr>\n",
       "      <th>average_normalized_score</th>\n",
       "      <td>0.997284</td>\n",
       "      <td>0.987997</td>\n",
       "      <td>0.997284</td>\n",
       "      <td>-0.992530</td>\n",
       "      <td>-0.980625</td>\n",
       "      <td>-0.997237</td>\n",
       "      <td>-0.980625</td>\n",
       "      <td>1.000000</td>\n",
       "      <td>0.951888</td>\n",
       "      <td>0.916975</td>\n",
       "    </tr>\n",
       "    <tr>\n",
       "      <th>BALD (Prediction Space)</th>\n",
       "      <td>0.955120</td>\n",
       "      <td>0.939559</td>\n",
       "      <td>0.955120</td>\n",
       "      <td>-0.947928</td>\n",
       "      <td>-0.927000</td>\n",
       "      <td>-0.955134</td>\n",
       "      <td>-0.927000</td>\n",
       "      <td>0.951888</td>\n",
       "      <td>1.000000</td>\n",
       "      <td>0.983865</td>\n",
       "    </tr>\n",
       "    <tr>\n",
       "      <th>EPIG (Prediction Space)</th>\n",
       "      <td>0.917530</td>\n",
       "      <td>0.896523</td>\n",
       "      <td>0.917530</td>\n",
       "      <td>-0.918178</td>\n",
       "      <td>-0.903336</td>\n",
       "      <td>-0.917681</td>\n",
       "      <td>-0.903336</td>\n",
       "      <td>0.916975</td>\n",
       "      <td>0.983865</td>\n",
       "      <td>1.000000</td>\n",
       "    </tr>\n",
       "  </tbody>\n",
       "</table>\n",
       "</div>"
      ],
      "text/plain": [
       "                          (E)IG (LogDet)  (E)IG (Trace)  \\\n",
       "(E)IG (LogDet)                  1.000000       0.987856   \n",
       "(E)IG (Trace)                   0.987856       1.000000   \n",
       "(E)IG (Proxy Log Det)           1.000000       0.987856   \n",
       "(E)PIG (LogDet)                -0.991724      -0.969408   \n",
       "(E)PIG (Trace)                 -0.971679      -0.949578   \n",
       "J(E)PIG (LogDet)               -0.999982      -0.987408   \n",
       "J(E)PIG (Trace)                -0.971679      -0.949578   \n",
       "average_normalized_score        0.997284       0.987997   \n",
       "BALD (Prediction Space)         0.955120       0.939559   \n",
       "EPIG (Prediction Space)         0.917530       0.896523   \n",
       "\n",
       "                          (E)IG (Proxy Log Det)  (E)PIG (LogDet)  \\\n",
       "(E)IG (LogDet)                         1.000000        -0.991724   \n",
       "(E)IG (Trace)                          0.987856        -0.969408   \n",
       "(E)IG (Proxy Log Det)                  1.000000        -0.991724   \n",
       "(E)PIG (LogDet)                       -0.991724         1.000000   \n",
       "(E)PIG (Trace)                        -0.971679         0.987134   \n",
       "J(E)PIG (LogDet)                      -0.999982         0.992111   \n",
       "J(E)PIG (Trace)                       -0.971679         0.987134   \n",
       "average_normalized_score               0.997284        -0.992530   \n",
       "BALD (Prediction Space)                0.955120        -0.947928   \n",
       "EPIG (Prediction Space)                0.917530        -0.918178   \n",
       "\n",
       "                          (E)PIG (Trace)  J(E)PIG (LogDet)  J(E)PIG (Trace)  \\\n",
       "(E)IG (LogDet)                 -0.971679         -0.999982        -0.971679   \n",
       "(E)IG (Trace)                  -0.949578         -0.987408        -0.949578   \n",
       "(E)IG (Proxy Log Det)          -0.971679         -0.999982        -0.971679   \n",
       "(E)PIG (LogDet)                 0.987134          0.992111         0.987134   \n",
       "(E)PIG (Trace)                  1.000000          0.972109         1.000000   \n",
       "J(E)PIG (LogDet)                0.972109          1.000000         0.972109   \n",
       "J(E)PIG (Trace)                 1.000000          0.972109         1.000000   \n",
       "average_normalized_score       -0.980625         -0.997237        -0.980625   \n",
       "BALD (Prediction Space)        -0.927000         -0.955134        -0.927000   \n",
       "EPIG (Prediction Space)        -0.903336         -0.917681        -0.903336   \n",
       "\n",
       "                          average_normalized_score  BALD (Prediction Space)  \\\n",
       "(E)IG (LogDet)                            0.997284                 0.955120   \n",
       "(E)IG (Trace)                             0.987997                 0.939559   \n",
       "(E)IG (Proxy Log Det)                     0.997284                 0.955120   \n",
       "(E)PIG (LogDet)                          -0.992530                -0.947928   \n",
       "(E)PIG (Trace)                           -0.980625                -0.927000   \n",
       "J(E)PIG (LogDet)                         -0.997237                -0.955134   \n",
       "J(E)PIG (Trace)                          -0.980625                -0.927000   \n",
       "average_normalized_score                  1.000000                 0.951888   \n",
       "BALD (Prediction Space)                   0.951888                 1.000000   \n",
       "EPIG (Prediction Space)                   0.916975                 0.983865   \n",
       "\n",
       "                          EPIG (Prediction Space)  \n",
       "(E)IG (LogDet)                           0.917530  \n",
       "(E)IG (Trace)                            0.896523  \n",
       "(E)IG (Proxy Log Det)                    0.917530  \n",
       "(E)PIG (LogDet)                         -0.918178  \n",
       "(E)PIG (Trace)                          -0.903336  \n",
       "J(E)PIG (LogDet)                        -0.917681  \n",
       "J(E)PIG (Trace)                         -0.903336  \n",
       "average_normalized_score                 0.916975  \n",
       "BALD (Prediction Space)                  0.983865  \n",
       "EPIG (Prediction Space)                  1.000000  "
      ]
     },
     "execution_count": 152,
     "metadata": {},
     "output_type": "execute_result"
    }
   ],
   "source": []
  },
  {
   "cell_type": "code",
   "execution_count": 22,
   "id": "determined-cassette",
   "metadata": {},
   "outputs": [
    {
     "ename": "AttributeError",
     "evalue": "'list' object has no attribute 'dataset'",
     "output_type": "error",
     "traceback": [
      "\u001b[0;31m---------------------------------------------------------------------------\u001b[0m",
      "\u001b[0;31mAttributeError\u001b[0m                            Traceback (most recent call last)",
      "Input \u001b[0;32mIn [22]\u001b[0m, in \u001b[0;36m<cell line: 2>\u001b[0;34m()\u001b[0m\n\u001b[1;32m      1\u001b[0m a\u001b[38;5;241m=\u001b[39m[]\n\u001b[0;32m----> 2\u001b[0m a\u001b[38;5;241m.\u001b[39mdataset\u001b[38;5;241m=\u001b[39m\u001b[38;5;124m\"\u001b[39m\u001b[38;5;124mhello\u001b[39m\u001b[38;5;124m\"\u001b[39m\n",
      "\u001b[0;31mAttributeError\u001b[0m: 'list' object has no attribute 'dataset'"
     ]
    }
   ],
   "source": [
    "a = []\n",
    "a.dataset = \"hello\""
   ]
  },
  {
   "cell_type": "code",
   "execution_count": 59,
   "id": "meaningful-fourth",
   "metadata": {},
   "outputs": [
    {
     "data": {
      "text/plain": [
       "0"
      ]
     },
     "execution_count": 59,
     "metadata": {},
     "output_type": "execute_result"
    }
   ],
   "source": [
    "la.n_data"
   ]
  },
  {
   "cell_type": "code",
   "execution_count": 168,
   "id": "interstate-shade",
   "metadata": {},
   "outputs": [
    {
     "data": {
      "text/plain": [
       "tensor(1812.8143)"
      ]
     },
     "execution_count": 168,
     "metadata": {},
     "output_type": "execute_result"
    }
   ],
   "source": [
    "get_model_param_entropy(train_loader, prior_precision=1, use_ggn=False)"
   ]
  },
  {
   "cell_type": "code",
   "execution_count": 34,
   "id": "visible-lighting",
   "metadata": {},
   "outputs": [],
   "source": [
    "la = laplace.Laplace(\n",
    "    model,\n",
    "    \"classification\",\n",
    "    prior_precision=0.0,\n",
    "    subset_of_weights=\"last_layer\",\n",
    "    hessian_structure=\"full\",\n",
    "    backend=laplace.curvature.AsdlGGN,\n",
    ")"
   ]
  },
  {
   "cell_type": "code",
   "execution_count": 92,
   "id": "controlling-metropolitan",
   "metadata": {},
   "outputs": [],
   "source": [
    "la.fit(train_loader)"
   ]
  },
  {
   "cell_type": "code",
   "execution_count": 93,
   "id": "plain-rouge",
   "metadata": {},
   "outputs": [],
   "source": [
    "la.optimize_prior_precision(method=\"marglik\")"
   ]
  },
  {
   "cell_type": "code",
   "execution_count": 56,
   "id": "distinct-fields",
   "metadata": {},
   "outputs": [
    {
     "data": {
      "text/plain": [
       "1664100"
      ]
     },
     "execution_count": 56,
     "metadata": {},
     "output_type": "execute_result"
    }
   ],
   "source": [
    "la.H.shape.numel()"
   ]
  },
  {
   "cell_type": "code",
   "execution_count": 57,
   "id": "express-residence",
   "metadata": {},
   "outputs": [
    {
     "data": {
      "text/plain": [
       "tensor(0.3669)"
      ]
     },
     "execution_count": 57,
     "metadata": {},
     "output_type": "execute_result"
    }
   ],
   "source": [
    "(la.H == 0).sum() / la.H.shape.numel()"
   ]
  },
  {
   "cell_type": "code",
   "execution_count": 12,
   "id": "prompt-florence",
   "metadata": {},
   "outputs": [
    {
     "data": {
      "text/plain": [
       "126.92805899679661"
      ]
     },
     "execution_count": 12,
     "metadata": {},
     "output_type": "execute_result"
    }
   ],
   "source": [
    "136287965584 / 2 ** 30"
   ]
  },
  {
   "cell_type": "code",
   "execution_count": null,
   "id": "rapid-analyst",
   "metadata": {},
   "outputs": [],
   "source": []
  }
 ],
 "metadata": {
  "kernelspec": {
   "display_name": "Python [conda env:unifying_dss_exp]",
   "language": "python",
   "name": "conda-env-unifying_dss_exp-py"
  },
  "language_info": {
   "codemirror_mode": {
    "name": "ipython",
    "version": 3
   },
   "file_extension": ".py",
   "mimetype": "text/x-python",
   "name": "python",
   "nbconvert_exporter": "python",
   "pygments_lexer": "ipython3",
   "version": "3.9.13"
  }
 },
 "nbformat": 4,
 "nbformat_minor": 5
}
