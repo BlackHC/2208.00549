{
 "cells": [
  {
   "cell_type": "code",
   "execution_count": 1,
   "id": "latter-november",
   "metadata": {},
   "outputs": [
    {
     "name": "stdout",
     "output_type": "stream",
     "text": [
      "Appended /home/blackhc/PycharmProjects/unifying_dss_exp/src to paths\n",
      "Switched to directory /home/blackhc/PycharmProjects/unifying_dss_exp\n",
      "%load_ext autoreload\n",
      "%autoreload 2\n"
     ]
    }
   ],
   "source": [
    "import blackhc.project.script"
   ]
  },
  {
   "cell_type": "code",
   "execution_count": 2,
   "id": "blank-compound",
   "metadata": {},
   "outputs": [
    {
     "name": "stderr",
     "output_type": "stream",
     "text": [
      "/home/blackhc/anaconda3/envs/unifying_dss_exp/lib/python3.9/site-packages/tqdm/auto.py:22: TqdmWarning: IProgress not found. Please update jupyter and ipywidgets. See https://ipywidgets.readthedocs.io/en/stable/user_install.html\n",
      "  from .autonotebook import tqdm as notebook_tqdm\n"
     ]
    }
   ],
   "source": [
    "from models import *"
   ]
  },
  {
   "cell_type": "code",
   "execution_count": 3,
   "id": "domestic-respect",
   "metadata": {},
   "outputs": [],
   "source": [
    "from datasets.factories import get_dataset"
   ]
  },
  {
   "cell_type": "code",
   "execution_count": 4,
   "id": "manual-chain",
   "metadata": {},
   "outputs": [],
   "source": [
    "from dataset_operations import RandomSubsetDataset"
   ]
  },
  {
   "cell_type": "code",
   "execution_count": 5,
   "id": "northern-seating",
   "metadata": {},
   "outputs": [],
   "source": [
    "split_dataset = get_dataset(\"MNIST\", normalize_like_cifar10=False, root=\"data/\", validation_set_size=1000, device_hint=\"cuda\")"
   ]
  },
  {
   "cell_type": "code",
   "execution_count": 6,
   "id": "graduate-reverse",
   "metadata": {},
   "outputs": [],
   "source": [
    "model_trainer = MnistModelTrainer(\"cuda\", max_training_epochs=10)"
   ]
  },
  {
   "cell_type": "code",
   "execution_count": 7,
   "id": "monetary-premises",
   "metadata": {},
   "outputs": [],
   "source": [
    "train_loader = model_trainer.get_train_dataloader(RandomSubsetDataset(split_dataset.train, size=50, seed=0))\n",
    "test_loader = model_trainer.get_evaluation_dataloader(split_dataset.test)\n",
    "validation_loader = model_trainer.get_evaluation_dataloader(split_dataset.validation)\n"
   ]
  },
  {
   "cell_type": "code",
   "execution_count": 27,
   "id": "through-livestock",
   "metadata": {},
   "outputs": [
    {
     "name": "stderr",
     "output_type": "stream",
     "text": [
      "Epoch:  10%|███████████████████████████▋                                                                                                                                                                                                                                                         | 1/10 [00:00<?, ?it/s]\n",
      "[1/16]   6%|██████████████████▏                                                                                                                                                                                                                                                                                [00:00<?]\u001b[A\n",
      "Epoch [1/10]: [1/16]   6%|█████████████████▎                                                                                                                                                                                                                                                                   [00:00<?]\u001b[A\n",
      "Epoch [1/10]: [1/16]   6%|█████████████▉                                                                                                                                                                                                                 , crossentropy=2.26, gpu:0 mem(%)=36, gpu:0 util(%)=1 [00:00<?]\u001b[A\n",
      "Epoch:  20%|█████████████████████████████████████████████████████▊                                                                                                                                                                                                                       | 2/10 [00:00<00:02,  2.86it/s]\u001b[A"
     ]
    },
    {
     "name": "stdout",
     "output_type": "stream",
     "text": [
      "Epoch metrics: {'accuracy': 0.336, 'crossentropy': 1.971524658203125}\n"
     ]
    },
    {
     "name": "stderr",
     "output_type": "stream",
     "text": [
      "\n",
      "[1/16]   6%|██████████████████▏                                                                                                                                                                                                                                                                                [00:00<?]\u001b[A\n",
      "Epoch [2/10]: [1/16]   6%|█████████████████▎                                                                                                                                                                                                                                                                   [00:00<?]\u001b[A\n",
      "Epoch [2/10]: [1/16]   6%|█████████████▉                                                                                                                                                                                                                 , crossentropy=1.64, gpu:0 mem(%)=36, gpu:0 util(%)=1 [00:00<?]\u001b[A\n",
      "Epoch [2/10]: [4/16]  25%|██████████████████████████████████████████████████████▊                                                                                                                                                                    , crossentropy=1.64, gpu:0 mem(%)=36, gpu:0 util(%)=1 [00:00<00:00]\u001b[A\n",
      "Epoch [2/10]: [4/16]  25%|██████████████████████████████████████████████████████▊                                                                                                                                                                    , crossentropy=1.53, gpu:0 mem(%)=36, gpu:0 util(%)=1 [00:00<00:00]\u001b[A\n",
      "Epoch:  30%|████████████████████████████████████████████████████████████████████████████████▋                                                                                                                                                                                            | 3/10 [00:00<00:02,  2.92it/s]\u001b[A"
     ]
    },
    {
     "name": "stdout",
     "output_type": "stream",
     "text": [
      "Epoch metrics: {'accuracy': 0.574, 'crossentropy': 1.3625169677734374}\n"
     ]
    },
    {
     "name": "stderr",
     "output_type": "stream",
     "text": [
      "\n",
      "[1/16]   6%|██████████████████▏                                                                                                                                                                                                                                                                                [00:00<?]\u001b[A\n",
      "Epoch [3/10]: [1/16]   6%|█████████████████▎                                                                                                                                                                                                                                                                   [00:00<?]\u001b[A\n",
      "Epoch [3/10]: [1/16]   6%|█████████████▊                                                                                                                                                                                                               , crossentropy=0.665, gpu:0 mem(%)=36, gpu:0 util(%)=25 [00:00<?]\u001b[A\n",
      "Epoch:  40%|███████████████████████████████████████████████████████████████████████████████████████████████████████████▌                                                                                                                                                                 | 4/10 [00:01<00:02,  2.97it/s]\u001b[A"
     ]
    },
    {
     "name": "stdout",
     "output_type": "stream",
     "text": [
      "Epoch metrics: {'accuracy': 0.635, 'crossentropy': 1.157936767578125}\n"
     ]
    },
    {
     "name": "stderr",
     "output_type": "stream",
     "text": [
      "\n",
      "[1/16]   6%|██████████████████▏                                                                                                                                                                                                                                                                                [00:00<?]\u001b[A\n",
      "Epoch [4/10]: [1/16]   6%|█████████████████▎                                                                                                                                                                                                                                                                   [00:00<?]\u001b[A\n",
      "Epoch [4/10]: [1/16]   6%|█████████████▊                                                                                                                                                                                                               , crossentropy=0.191, gpu:0 mem(%)=36, gpu:0 util(%)=25 [00:00<?]\u001b[A\n",
      "Epoch [4/10]: [2/16]  12%|███████████████████████████▏                                                                                                                                                                                             , crossentropy=0.191, gpu:0 mem(%)=36, gpu:0 util(%)=25 [00:00<00:01]\u001b[A\n",
      "Epoch [4/10]: [2/16]  12%|███████████████████████████▏                                                                                                                                                                                             , crossentropy=0.189, gpu:0 mem(%)=36, gpu:0 util(%)=25 [00:00<00:01]\u001b[A\n",
      "Epoch:  50%|██████████████████████████████████████████████████████████████████████████████████████████████████████████████████████████████████████▌                                                                                                                                      | 5/10 [00:01<00:01,  2.93it/s]\u001b[A"
     ]
    },
    {
     "name": "stdout",
     "output_type": "stream",
     "text": [
      "Epoch metrics: {'accuracy': 0.68, 'crossentropy': 1.1056817626953126}\n"
     ]
    },
    {
     "name": "stderr",
     "output_type": "stream",
     "text": [
      "\n",
      "[1/16]   6%|██████████████████▏                                                                                                                                                                                                                                                                                [00:00<?]\u001b[A\n",
      "Epoch [5/10]: [1/16]   6%|█████████████████▎                                                                                                                                                                                                                                                                   [00:00<?]\u001b[A\n",
      "Epoch [5/10]: [1/16]   6%|█████████████▊                                                                                                                                                                                                               , crossentropy=0.114, gpu:0 mem(%)=36, gpu:0 util(%)=25 [00:00<?]\u001b[A\n",
      "Epoch [5/10]: [6/16]  38%|█████████████████████████████████████████████████████████████████████████████████▍                                                                                                                                       , crossentropy=0.114, gpu:0 mem(%)=36, gpu:0 util(%)=25 [00:00<00:00]\u001b[A\n",
      "Epoch [5/10]: [6/16]  38%|█████████████████████████████████████████████████████████████████████████████████▍                                                                                                                                       , crossentropy=0.112, gpu:0 mem(%)=36, gpu:0 util(%)=25 [00:00<00:00]\u001b[A\n",
      "Epoch:  60%|█████████████████████████████████████████████████████████████████████████████████████████████████████████████████████████████████████████████████████████████████▍                                                                                                           | 6/10 [00:01<00:01,  2.95it/s]\u001b[A"
     ]
    },
    {
     "name": "stdout",
     "output_type": "stream",
     "text": [
      "Epoch metrics: {'accuracy': 0.672, 'crossentropy': 1.1071094970703126}\n",
      "RestoringEarlyStopping: 1 / 20\n"
     ]
    },
    {
     "name": "stderr",
     "output_type": "stream",
     "text": [
      "\n",
      "[1/16]   6%|██████████████████▏                                                                                                                                                                                                                                                                                [00:00<?]\u001b[A\n",
      "Epoch [6/10]: [1/16]   6%|█████████████████▎                                                                                                                                                                                                                                                                   [00:00<?]\u001b[A\n",
      "Epoch [6/10]: [1/16]   6%|█████████████▊                                                                                                                                                                                                               , crossentropy=0.063, gpu:0 mem(%)=36, gpu:0 util(%)=35 [00:00<?]\u001b[A\n",
      "Epoch:  70%|████████████████████████████████████████████████████████████████████████████████████████████████████████████████████████████████████████████████████████████████████████████████████████████▎                                                                                | 7/10 [00:02<00:01,  2.99it/s]\u001b[A"
     ]
    },
    {
     "name": "stdout",
     "output_type": "stream",
     "text": [
      "Epoch metrics: {'accuracy': 0.686, 'crossentropy': 1.1012744140625}\n"
     ]
    },
    {
     "name": "stderr",
     "output_type": "stream",
     "text": [
      "\n",
      "[1/16]   6%|██████████████████▏                                                                                                                                                                                                                                                                                [00:00<?]\u001b[A\n",
      "Epoch [7/10]: [1/16]   6%|█████████████████▎                                                                                                                                                                                                                                                                   [00:00<?]\u001b[A\n",
      "Epoch [7/10]: [1/16]   6%|█████████████▊                                                                                                                                                                                                              , crossentropy=0.0204, gpu:0 mem(%)=36, gpu:0 util(%)=35 [00:00<?]\u001b[A\n",
      "Epoch [7/10]: [4/16]  25%|██████████████████████████████████████████████████████                                                                                                                                                                  , crossentropy=0.0204, gpu:0 mem(%)=36, gpu:0 util(%)=35 [00:00<00:00]\u001b[A\n",
      "Epoch [7/10]: [4/16]  25%|██████████████████████████████████████████████████████▎                                                                                                                                                                  , crossentropy=0.026, gpu:0 mem(%)=36, gpu:0 util(%)=35 [00:00<00:00]\u001b[A\n",
      "Epoch:  80%|███████████████████████████████████████████████████████████████████████████████████████████████████████████████████████████████████████████████████████████████████████████████████████████████████████████████████████▏                                                     | 8/10 [00:02<00:00,  2.95it/s]\u001b[A"
     ]
    },
    {
     "name": "stdout",
     "output_type": "stream",
     "text": [
      "Epoch metrics: {'accuracy': 0.692, 'crossentropy': 1.1619853515625}\n"
     ]
    },
    {
     "name": "stderr",
     "output_type": "stream",
     "text": [
      "\n",
      "[1/16]   6%|██████████████████▏                                                                                                                                                                                                                                                                                [00:00<?]\u001b[A\n",
      "Epoch [8/10]: [1/16]   6%|█████████████████▎                                                                                                                                                                                                                                                                   [00:00<?]\u001b[A\n",
      "Epoch [8/10]: [1/16]   6%|█████████████▊                                                                                                                                                                                                              , crossentropy=0.0323, gpu:0 mem(%)=36, gpu:0 util(%)=35 [00:00<?]\u001b[A\n",
      "Epoch:  90%|██████████████████████████████████████████████████████████████████████████████████████████████████████████████████████████████████████████████████████████████████████████████████████████████████████████████████████████████████████████████████                           | 9/10 [00:02<00:00,  3.00it/s]\u001b[A"
     ]
    },
    {
     "name": "stdout",
     "output_type": "stream",
     "text": [
      "Epoch metrics: {'accuracy': 0.711, 'crossentropy': 1.01453076171875}\n"
     ]
    },
    {
     "name": "stderr",
     "output_type": "stream",
     "text": [
      "\n",
      "[1/16]   6%|██████████████████▏                                                                                                                                                                                                                                                                                [00:00<?]\u001b[A\n",
      "Epoch [9/10]: [1/16]   6%|█████████████████▎                                                                                                                                                                                                                                                                   [00:00<?]\u001b[A\n",
      "Epoch [9/10]: [1/16]   6%|█████████████▊                                                                                                                                                                                                              , crossentropy=0.0225, gpu:0 mem(%)=36, gpu:0 util(%)=35 [00:00<?]\u001b[A\n",
      "Epoch [9/10]: [2/16]  12%|███████████████████████████                                                                                                                                                                                             , crossentropy=0.0225, gpu:0 mem(%)=36, gpu:0 util(%)=35 [00:00<00:01]\u001b[A\n",
      "Epoch [9/10]: [2/16]  12%|███████████████████████████                                                                                                                                                                                             , crossentropy=0.0228, gpu:0 mem(%)=36, gpu:0 util(%)=35 [00:00<00:01]\u001b[A\n",
      "Epoch: 100%|████████████████████████████████████████████████████████████████████████████████████████████████████████████████████████████████████████████████████████████████████████████████████████████████████████████████████████████████████████████████████████████████████████████| 10/10 [00:03<00:00,  2.99it/s]\u001b[A"
     ]
    },
    {
     "name": "stdout",
     "output_type": "stream",
     "text": [
      "Epoch metrics: {'accuracy': 0.713, 'crossentropy': 1.0387950439453124}\n"
     ]
    },
    {
     "name": "stderr",
     "output_type": "stream",
     "text": [
      "\n",
      "[1/16]   6%|██████████████████▏                                                                                                                                                                                                                                                                                [00:00<?]\u001b[A\n",
      "Epoch [10/10]: [1/16]   6%|█████████████████▏                                                                                                                                                                                                                                                                  [00:00<?]\u001b[A\n",
      "Epoch [10/10]: [1/16]   6%|█████████████▊                                                                                                                                                                                                              , crossentropy=0.022, gpu:0 mem(%)=36, gpu:0 util(%)=35 [00:00<?]\u001b[A\n",
      "Epoch [10/10]: [6/16]  38%|█████████████████████████████████████████████████████████████████████████████████                                                                                                                                       , crossentropy=0.022, gpu:0 mem(%)=36, gpu:0 util(%)=35 [00:00<00:00]\u001b[A\n",
      "Epoch [10/10]: [6/16]  38%|████████████████████████████████████████████████████████████████████████████████▋                                                                                                                                      , crossentropy=0.0205, gpu:0 mem(%)=36, gpu:0 util(%)=35 [00:00<00:00]\u001b[A\n",
      "Epoch: 100%|████████████████████████████████████████████████████████████████████████████████████████████████████████████████████████████████████████████████████████████████████████████████████████████████████████████████████████████████████████████████████████████████████████████| 10/10 [00:03<00:00,  2.66it/s]\u001b[A"
     ]
    },
    {
     "name": "stdout",
     "output_type": "stream",
     "text": [
      "Epoch metrics: {'accuracy': 0.704, 'crossentropy': 1.166867431640625}\n",
      "RestoringEarlyStopping: 1 / 20\n",
      "RestoringEarlyStopping: Restoring best parameters. (Score: 0.713)\n",
      "RestoringEarlyStopping: Restoring optimizer.\n",
      "{'/val_metrics': <wandb.data_types.Table object at 0x7fb695fce4c0>, '/best_epoch': 8, '/best_val_accuracy': 0.713, '/best_val_crossentropy': 1.0387950439453124}\n"
     ]
    },
    {
     "name": "stderr",
     "output_type": "stream",
     "text": [
      "\n"
     ]
    }
   ],
   "source": [
    "log = {}\n",
    "trained_model = model_trainer.get_trained(train_loader=train_loader, train_augmentations=None, validation_loader=validation_loader, log=log, wandb_key_path=\"\")"
   ]
  },
  {
   "cell_type": "code",
   "execution_count": 28,
   "id": "infrared-puzzle",
   "metadata": {},
   "outputs": [
    {
     "data": {
      "text/plain": [
       "BayesianMNISTCNN(\n",
       "  (conv1): Conv2d(1, 32, kernel_size=(5, 5), stride=(1, 1))\n",
       "  (conv1_drop): ConsistentMCDropout2d(p=0.5)\n",
       "  (conv2): Conv2d(32, 64, kernel_size=(5, 5), stride=(1, 1))\n",
       "  (conv2_drop): ConsistentMCDropout2d(p=0.5)\n",
       "  (fc1): Linear(in_features=1024, out_features=128, bias=True)\n",
       "  (fc1_drop): ConsistentMCDropout(p=0.5)\n",
       "  (fc2): Linear(in_features=128, out_features=10, bias=True)\n",
       ")"
      ]
     },
     "execution_count": 28,
     "metadata": {},
     "output_type": "execute_result"
    }
   ],
   "source": [
    "trained_model.model."
   ]
  },
  {
   "cell_type": "code",
   "execution_count": 45,
   "id": "honey-constraint",
   "metadata": {},
   "outputs": [],
   "source": [
    "model = MNISTCNN()"
   ]
  },
  {
   "cell_type": "code",
   "execution_count": 46,
   "id": "dried-territory",
   "metadata": {},
   "outputs": [],
   "source": [
    "import laplace"
   ]
  },
  {
   "cell_type": "code",
   "execution_count": 47,
   "id": "afraid-representative",
   "metadata": {},
   "outputs": [],
   "source": [
    "la = laplace.Laplace(model, \"classification\", prior_precision=0., subset_of_weights=\"last_layer\", hessian_structure='full', backend=laplace.curvature.AsdlGGN)"
   ]
  },
  {
   "cell_type": "code",
   "execution_count": 54,
   "id": "acquired-italy",
   "metadata": {},
   "outputs": [],
   "source": [
    "la.fit(train_loader)"
   ]
  },
  {
   "cell_type": "code",
   "execution_count": 55,
   "id": "experienced-ownership",
   "metadata": {},
   "outputs": [],
   "source": [
    "la.optimize_prior_precision(method='marglik')"
   ]
  },
  {
   "cell_type": "code",
   "execution_count": 56,
   "id": "heavy-season",
   "metadata": {},
   "outputs": [
    {
     "data": {
      "text/plain": [
       "1664100"
      ]
     },
     "execution_count": 56,
     "metadata": {},
     "output_type": "execute_result"
    }
   ],
   "source": [
    "la.H.shape.numel()"
   ]
  },
  {
   "cell_type": "code",
   "execution_count": 57,
   "id": "eligible-armstrong",
   "metadata": {},
   "outputs": [
    {
     "data": {
      "text/plain": [
       "tensor(0.3669)"
      ]
     },
     "execution_count": 57,
     "metadata": {},
     "output_type": "execute_result"
    }
   ],
   "source": [
    "(la.H==0).sum()/la.H.shape.numel()"
   ]
  },
  {
   "cell_type": "code",
   "execution_count": 12,
   "id": "stopped-lender",
   "metadata": {},
   "outputs": [
    {
     "data": {
      "text/plain": [
       "126.92805899679661"
      ]
     },
     "execution_count": 12,
     "metadata": {},
     "output_type": "execute_result"
    }
   ],
   "source": [
    "136287965584/2**30"
   ]
  },
  {
   "cell_type": "code",
   "execution_count": null,
   "id": "detected-muslim",
   "metadata": {},
   "outputs": [],
   "source": []
  }
 ],
 "metadata": {
  "kernelspec": {
   "display_name": "Python [conda env:unifying_dss_exp]",
   "language": "python",
   "name": "conda-env-unifying_dss_exp-py"
  },
  "language_info": {
   "codemirror_mode": {
    "name": "ipython",
    "version": 3
   },
   "file_extension": ".py",
   "mimetype": "text/x-python",
   "name": "python",
   "nbconvert_exporter": "python",
   "pygments_lexer": "ipython3",
   "version": "3.9.13"
  }
 },
 "nbformat": 4,
 "nbformat_minor": 5
}
